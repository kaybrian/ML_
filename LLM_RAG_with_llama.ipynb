{
  "nbformat": 4,
  "nbformat_minor": 0,
  "metadata": {
    "colab": {
      "provenance": [],
      "authorship_tag": "ABX9TyNGDwuRPsOfcYPb5AyGApC5",
      "include_colab_link": true
    },
    "kernelspec": {
      "name": "python3",
      "display_name": "Python 3"
    },
    "language_info": {
      "name": "python"
    },
    "widgets": {
      "application/vnd.jupyter.widget-state+json": {
        "a1548e5e64c74eee8fc4ecb92b73793d": {
          "model_module": "@jupyter-widgets/controls",
          "model_name": "HBoxModel",
          "model_module_version": "1.5.0",
          "state": {
            "_dom_classes": [],
            "_model_module": "@jupyter-widgets/controls",
            "_model_module_version": "1.5.0",
            "_model_name": "HBoxModel",
            "_view_count": null,
            "_view_module": "@jupyter-widgets/controls",
            "_view_module_version": "1.5.0",
            "_view_name": "HBoxView",
            "box_style": "",
            "children": [
              "IPY_MODEL_5fc68d27b0c04ec5a69d750bd7cd01d0",
              "IPY_MODEL_cb218d09deb94c14b5c1f916303ab0bd",
              "IPY_MODEL_b046ab6a44ca4fa19d24499c66917488"
            ],
            "layout": "IPY_MODEL_9df106530ebb4e1eb87383fa61d84431"
          }
        },
        "5fc68d27b0c04ec5a69d750bd7cd01d0": {
          "model_module": "@jupyter-widgets/controls",
          "model_name": "HTMLModel",
          "model_module_version": "1.5.0",
          "state": {
            "_dom_classes": [],
            "_model_module": "@jupyter-widgets/controls",
            "_model_module_version": "1.5.0",
            "_model_name": "HTMLModel",
            "_view_count": null,
            "_view_module": "@jupyter-widgets/controls",
            "_view_module_version": "1.5.0",
            "_view_name": "HTMLView",
            "description": "",
            "description_tooltip": null,
            "layout": "IPY_MODEL_cd526cdb4ef3487f8d7cf2dc20981f5f",
            "placeholder": "​",
            "style": "IPY_MODEL_ed6764be98674577a3f51c7944498979",
            "value": "Fetching 5 files: 100%"
          }
        },
        "cb218d09deb94c14b5c1f916303ab0bd": {
          "model_module": "@jupyter-widgets/controls",
          "model_name": "FloatProgressModel",
          "model_module_version": "1.5.0",
          "state": {
            "_dom_classes": [],
            "_model_module": "@jupyter-widgets/controls",
            "_model_module_version": "1.5.0",
            "_model_name": "FloatProgressModel",
            "_view_count": null,
            "_view_module": "@jupyter-widgets/controls",
            "_view_module_version": "1.5.0",
            "_view_name": "ProgressView",
            "bar_style": "success",
            "description": "",
            "description_tooltip": null,
            "layout": "IPY_MODEL_836a0d52e58b4ae3a7c331ec1114ba1c",
            "max": 5,
            "min": 0,
            "orientation": "horizontal",
            "style": "IPY_MODEL_10cac139154541b6896fed0646c47baa",
            "value": 5
          }
        },
        "b046ab6a44ca4fa19d24499c66917488": {
          "model_module": "@jupyter-widgets/controls",
          "model_name": "HTMLModel",
          "model_module_version": "1.5.0",
          "state": {
            "_dom_classes": [],
            "_model_module": "@jupyter-widgets/controls",
            "_model_module_version": "1.5.0",
            "_model_name": "HTMLModel",
            "_view_count": null,
            "_view_module": "@jupyter-widgets/controls",
            "_view_module_version": "1.5.0",
            "_view_name": "HTMLView",
            "description": "",
            "description_tooltip": null,
            "layout": "IPY_MODEL_49f33ad419b14470ae81c6d81c22c82d",
            "placeholder": "​",
            "style": "IPY_MODEL_08c5414ef70c4d9bb353296cf333815c",
            "value": " 5/5 [00:02&lt;00:00,  1.32s/it]"
          }
        },
        "9df106530ebb4e1eb87383fa61d84431": {
          "model_module": "@jupyter-widgets/base",
          "model_name": "LayoutModel",
          "model_module_version": "1.2.0",
          "state": {
            "_model_module": "@jupyter-widgets/base",
            "_model_module_version": "1.2.0",
            "_model_name": "LayoutModel",
            "_view_count": null,
            "_view_module": "@jupyter-widgets/base",
            "_view_module_version": "1.2.0",
            "_view_name": "LayoutView",
            "align_content": null,
            "align_items": null,
            "align_self": null,
            "border": null,
            "bottom": null,
            "display": null,
            "flex": null,
            "flex_flow": null,
            "grid_area": null,
            "grid_auto_columns": null,
            "grid_auto_flow": null,
            "grid_auto_rows": null,
            "grid_column": null,
            "grid_gap": null,
            "grid_row": null,
            "grid_template_areas": null,
            "grid_template_columns": null,
            "grid_template_rows": null,
            "height": null,
            "justify_content": null,
            "justify_items": null,
            "left": null,
            "margin": null,
            "max_height": null,
            "max_width": null,
            "min_height": null,
            "min_width": null,
            "object_fit": null,
            "object_position": null,
            "order": null,
            "overflow": null,
            "overflow_x": null,
            "overflow_y": null,
            "padding": null,
            "right": null,
            "top": null,
            "visibility": null,
            "width": null
          }
        },
        "cd526cdb4ef3487f8d7cf2dc20981f5f": {
          "model_module": "@jupyter-widgets/base",
          "model_name": "LayoutModel",
          "model_module_version": "1.2.0",
          "state": {
            "_model_module": "@jupyter-widgets/base",
            "_model_module_version": "1.2.0",
            "_model_name": "LayoutModel",
            "_view_count": null,
            "_view_module": "@jupyter-widgets/base",
            "_view_module_version": "1.2.0",
            "_view_name": "LayoutView",
            "align_content": null,
            "align_items": null,
            "align_self": null,
            "border": null,
            "bottom": null,
            "display": null,
            "flex": null,
            "flex_flow": null,
            "grid_area": null,
            "grid_auto_columns": null,
            "grid_auto_flow": null,
            "grid_auto_rows": null,
            "grid_column": null,
            "grid_gap": null,
            "grid_row": null,
            "grid_template_areas": null,
            "grid_template_columns": null,
            "grid_template_rows": null,
            "height": null,
            "justify_content": null,
            "justify_items": null,
            "left": null,
            "margin": null,
            "max_height": null,
            "max_width": null,
            "min_height": null,
            "min_width": null,
            "object_fit": null,
            "object_position": null,
            "order": null,
            "overflow": null,
            "overflow_x": null,
            "overflow_y": null,
            "padding": null,
            "right": null,
            "top": null,
            "visibility": null,
            "width": null
          }
        },
        "ed6764be98674577a3f51c7944498979": {
          "model_module": "@jupyter-widgets/controls",
          "model_name": "DescriptionStyleModel",
          "model_module_version": "1.5.0",
          "state": {
            "_model_module": "@jupyter-widgets/controls",
            "_model_module_version": "1.5.0",
            "_model_name": "DescriptionStyleModel",
            "_view_count": null,
            "_view_module": "@jupyter-widgets/base",
            "_view_module_version": "1.2.0",
            "_view_name": "StyleView",
            "description_width": ""
          }
        },
        "836a0d52e58b4ae3a7c331ec1114ba1c": {
          "model_module": "@jupyter-widgets/base",
          "model_name": "LayoutModel",
          "model_module_version": "1.2.0",
          "state": {
            "_model_module": "@jupyter-widgets/base",
            "_model_module_version": "1.2.0",
            "_model_name": "LayoutModel",
            "_view_count": null,
            "_view_module": "@jupyter-widgets/base",
            "_view_module_version": "1.2.0",
            "_view_name": "LayoutView",
            "align_content": null,
            "align_items": null,
            "align_self": null,
            "border": null,
            "bottom": null,
            "display": null,
            "flex": null,
            "flex_flow": null,
            "grid_area": null,
            "grid_auto_columns": null,
            "grid_auto_flow": null,
            "grid_auto_rows": null,
            "grid_column": null,
            "grid_gap": null,
            "grid_row": null,
            "grid_template_areas": null,
            "grid_template_columns": null,
            "grid_template_rows": null,
            "height": null,
            "justify_content": null,
            "justify_items": null,
            "left": null,
            "margin": null,
            "max_height": null,
            "max_width": null,
            "min_height": null,
            "min_width": null,
            "object_fit": null,
            "object_position": null,
            "order": null,
            "overflow": null,
            "overflow_x": null,
            "overflow_y": null,
            "padding": null,
            "right": null,
            "top": null,
            "visibility": null,
            "width": null
          }
        },
        "10cac139154541b6896fed0646c47baa": {
          "model_module": "@jupyter-widgets/controls",
          "model_name": "ProgressStyleModel",
          "model_module_version": "1.5.0",
          "state": {
            "_model_module": "@jupyter-widgets/controls",
            "_model_module_version": "1.5.0",
            "_model_name": "ProgressStyleModel",
            "_view_count": null,
            "_view_module": "@jupyter-widgets/base",
            "_view_module_version": "1.2.0",
            "_view_name": "StyleView",
            "bar_color": null,
            "description_width": ""
          }
        },
        "49f33ad419b14470ae81c6d81c22c82d": {
          "model_module": "@jupyter-widgets/base",
          "model_name": "LayoutModel",
          "model_module_version": "1.2.0",
          "state": {
            "_model_module": "@jupyter-widgets/base",
            "_model_module_version": "1.2.0",
            "_model_name": "LayoutModel",
            "_view_count": null,
            "_view_module": "@jupyter-widgets/base",
            "_view_module_version": "1.2.0",
            "_view_name": "LayoutView",
            "align_content": null,
            "align_items": null,
            "align_self": null,
            "border": null,
            "bottom": null,
            "display": null,
            "flex": null,
            "flex_flow": null,
            "grid_area": null,
            "grid_auto_columns": null,
            "grid_auto_flow": null,
            "grid_auto_rows": null,
            "grid_column": null,
            "grid_gap": null,
            "grid_row": null,
            "grid_template_areas": null,
            "grid_template_columns": null,
            "grid_template_rows": null,
            "height": null,
            "justify_content": null,
            "justify_items": null,
            "left": null,
            "margin": null,
            "max_height": null,
            "max_width": null,
            "min_height": null,
            "min_width": null,
            "object_fit": null,
            "object_position": null,
            "order": null,
            "overflow": null,
            "overflow_x": null,
            "overflow_y": null,
            "padding": null,
            "right": null,
            "top": null,
            "visibility": null,
            "width": null
          }
        },
        "08c5414ef70c4d9bb353296cf333815c": {
          "model_module": "@jupyter-widgets/controls",
          "model_name": "DescriptionStyleModel",
          "model_module_version": "1.5.0",
          "state": {
            "_model_module": "@jupyter-widgets/controls",
            "_model_module_version": "1.5.0",
            "_model_name": "DescriptionStyleModel",
            "_view_count": null,
            "_view_module": "@jupyter-widgets/base",
            "_view_module_version": "1.2.0",
            "_view_name": "StyleView",
            "description_width": ""
          }
        },
        "52aa0bcf1b1b43659871f66200aa0124": {
          "model_module": "@jupyter-widgets/controls",
          "model_name": "HBoxModel",
          "model_module_version": "1.5.0",
          "state": {
            "_dom_classes": [],
            "_model_module": "@jupyter-widgets/controls",
            "_model_module_version": "1.5.0",
            "_model_name": "HBoxModel",
            "_view_count": null,
            "_view_module": "@jupyter-widgets/controls",
            "_view_module_version": "1.5.0",
            "_view_name": "HBoxView",
            "box_style": "",
            "children": [
              "IPY_MODEL_5a05500e298b407aadc025af7dee8c19",
              "IPY_MODEL_69bc8efd478e470e87cc0741300ea54c",
              "IPY_MODEL_fa21c21d6bdc4e879945dd279483a39b"
            ],
            "layout": "IPY_MODEL_063a1416f460412cb0404f10277dc583"
          }
        },
        "5a05500e298b407aadc025af7dee8c19": {
          "model_module": "@jupyter-widgets/controls",
          "model_name": "HTMLModel",
          "model_module_version": "1.5.0",
          "state": {
            "_dom_classes": [],
            "_model_module": "@jupyter-widgets/controls",
            "_model_module_version": "1.5.0",
            "_model_name": "HTMLModel",
            "_view_count": null,
            "_view_module": "@jupyter-widgets/controls",
            "_view_module_version": "1.5.0",
            "_view_name": "HTMLView",
            "description": "",
            "description_tooltip": null,
            "layout": "IPY_MODEL_c48832a6f0e34415bc28863216328699",
            "placeholder": "​",
            "style": "IPY_MODEL_9d27c896952c434ab470152212253b19",
            "value": "config.json: 100%"
          }
        },
        "69bc8efd478e470e87cc0741300ea54c": {
          "model_module": "@jupyter-widgets/controls",
          "model_name": "FloatProgressModel",
          "model_module_version": "1.5.0",
          "state": {
            "_dom_classes": [],
            "_model_module": "@jupyter-widgets/controls",
            "_model_module_version": "1.5.0",
            "_model_name": "FloatProgressModel",
            "_view_count": null,
            "_view_module": "@jupyter-widgets/controls",
            "_view_module_version": "1.5.0",
            "_view_name": "ProgressView",
            "bar_style": "success",
            "description": "",
            "description_tooltip": null,
            "layout": "IPY_MODEL_a2efc593464d48aaa72f4b1aacc5a61a",
            "max": 740,
            "min": 0,
            "orientation": "horizontal",
            "style": "IPY_MODEL_a6fb78cabd4c4f169f278927f26fc820",
            "value": 740
          }
        },
        "fa21c21d6bdc4e879945dd279483a39b": {
          "model_module": "@jupyter-widgets/controls",
          "model_name": "HTMLModel",
          "model_module_version": "1.5.0",
          "state": {
            "_dom_classes": [],
            "_model_module": "@jupyter-widgets/controls",
            "_model_module_version": "1.5.0",
            "_model_name": "HTMLModel",
            "_view_count": null,
            "_view_module": "@jupyter-widgets/controls",
            "_view_module_version": "1.5.0",
            "_view_name": "HTMLView",
            "description": "",
            "description_tooltip": null,
            "layout": "IPY_MODEL_03ddbdaebea44cf999f196e60208897e",
            "placeholder": "​",
            "style": "IPY_MODEL_cc03070cd140477aad389953f40181f4",
            "value": " 740/740 [00:00&lt;00:00, 29.7kB/s]"
          }
        },
        "063a1416f460412cb0404f10277dc583": {
          "model_module": "@jupyter-widgets/base",
          "model_name": "LayoutModel",
          "model_module_version": "1.2.0",
          "state": {
            "_model_module": "@jupyter-widgets/base",
            "_model_module_version": "1.2.0",
            "_model_name": "LayoutModel",
            "_view_count": null,
            "_view_module": "@jupyter-widgets/base",
            "_view_module_version": "1.2.0",
            "_view_name": "LayoutView",
            "align_content": null,
            "align_items": null,
            "align_self": null,
            "border": null,
            "bottom": null,
            "display": null,
            "flex": null,
            "flex_flow": null,
            "grid_area": null,
            "grid_auto_columns": null,
            "grid_auto_flow": null,
            "grid_auto_rows": null,
            "grid_column": null,
            "grid_gap": null,
            "grid_row": null,
            "grid_template_areas": null,
            "grid_template_columns": null,
            "grid_template_rows": null,
            "height": null,
            "justify_content": null,
            "justify_items": null,
            "left": null,
            "margin": null,
            "max_height": null,
            "max_width": null,
            "min_height": null,
            "min_width": null,
            "object_fit": null,
            "object_position": null,
            "order": null,
            "overflow": null,
            "overflow_x": null,
            "overflow_y": null,
            "padding": null,
            "right": null,
            "top": null,
            "visibility": null,
            "width": null
          }
        },
        "c48832a6f0e34415bc28863216328699": {
          "model_module": "@jupyter-widgets/base",
          "model_name": "LayoutModel",
          "model_module_version": "1.2.0",
          "state": {
            "_model_module": "@jupyter-widgets/base",
            "_model_module_version": "1.2.0",
            "_model_name": "LayoutModel",
            "_view_count": null,
            "_view_module": "@jupyter-widgets/base",
            "_view_module_version": "1.2.0",
            "_view_name": "LayoutView",
            "align_content": null,
            "align_items": null,
            "align_self": null,
            "border": null,
            "bottom": null,
            "display": null,
            "flex": null,
            "flex_flow": null,
            "grid_area": null,
            "grid_auto_columns": null,
            "grid_auto_flow": null,
            "grid_auto_rows": null,
            "grid_column": null,
            "grid_gap": null,
            "grid_row": null,
            "grid_template_areas": null,
            "grid_template_columns": null,
            "grid_template_rows": null,
            "height": null,
            "justify_content": null,
            "justify_items": null,
            "left": null,
            "margin": null,
            "max_height": null,
            "max_width": null,
            "min_height": null,
            "min_width": null,
            "object_fit": null,
            "object_position": null,
            "order": null,
            "overflow": null,
            "overflow_x": null,
            "overflow_y": null,
            "padding": null,
            "right": null,
            "top": null,
            "visibility": null,
            "width": null
          }
        },
        "9d27c896952c434ab470152212253b19": {
          "model_module": "@jupyter-widgets/controls",
          "model_name": "DescriptionStyleModel",
          "model_module_version": "1.5.0",
          "state": {
            "_model_module": "@jupyter-widgets/controls",
            "_model_module_version": "1.5.0",
            "_model_name": "DescriptionStyleModel",
            "_view_count": null,
            "_view_module": "@jupyter-widgets/base",
            "_view_module_version": "1.2.0",
            "_view_name": "StyleView",
            "description_width": ""
          }
        },
        "a2efc593464d48aaa72f4b1aacc5a61a": {
          "model_module": "@jupyter-widgets/base",
          "model_name": "LayoutModel",
          "model_module_version": "1.2.0",
          "state": {
            "_model_module": "@jupyter-widgets/base",
            "_model_module_version": "1.2.0",
            "_model_name": "LayoutModel",
            "_view_count": null,
            "_view_module": "@jupyter-widgets/base",
            "_view_module_version": "1.2.0",
            "_view_name": "LayoutView",
            "align_content": null,
            "align_items": null,
            "align_self": null,
            "border": null,
            "bottom": null,
            "display": null,
            "flex": null,
            "flex_flow": null,
            "grid_area": null,
            "grid_auto_columns": null,
            "grid_auto_flow": null,
            "grid_auto_rows": null,
            "grid_column": null,
            "grid_gap": null,
            "grid_row": null,
            "grid_template_areas": null,
            "grid_template_columns": null,
            "grid_template_rows": null,
            "height": null,
            "justify_content": null,
            "justify_items": null,
            "left": null,
            "margin": null,
            "max_height": null,
            "max_width": null,
            "min_height": null,
            "min_width": null,
            "object_fit": null,
            "object_position": null,
            "order": null,
            "overflow": null,
            "overflow_x": null,
            "overflow_y": null,
            "padding": null,
            "right": null,
            "top": null,
            "visibility": null,
            "width": null
          }
        },
        "a6fb78cabd4c4f169f278927f26fc820": {
          "model_module": "@jupyter-widgets/controls",
          "model_name": "ProgressStyleModel",
          "model_module_version": "1.5.0",
          "state": {
            "_model_module": "@jupyter-widgets/controls",
            "_model_module_version": "1.5.0",
            "_model_name": "ProgressStyleModel",
            "_view_count": null,
            "_view_module": "@jupyter-widgets/base",
            "_view_module_version": "1.2.0",
            "_view_name": "StyleView",
            "bar_color": null,
            "description_width": ""
          }
        },
        "03ddbdaebea44cf999f196e60208897e": {
          "model_module": "@jupyter-widgets/base",
          "model_name": "LayoutModel",
          "model_module_version": "1.2.0",
          "state": {
            "_model_module": "@jupyter-widgets/base",
            "_model_module_version": "1.2.0",
            "_model_name": "LayoutModel",
            "_view_count": null,
            "_view_module": "@jupyter-widgets/base",
            "_view_module_version": "1.2.0",
            "_view_name": "LayoutView",
            "align_content": null,
            "align_items": null,
            "align_self": null,
            "border": null,
            "bottom": null,
            "display": null,
            "flex": null,
            "flex_flow": null,
            "grid_area": null,
            "grid_auto_columns": null,
            "grid_auto_flow": null,
            "grid_auto_rows": null,
            "grid_column": null,
            "grid_gap": null,
            "grid_row": null,
            "grid_template_areas": null,
            "grid_template_columns": null,
            "grid_template_rows": null,
            "height": null,
            "justify_content": null,
            "justify_items": null,
            "left": null,
            "margin": null,
            "max_height": null,
            "max_width": null,
            "min_height": null,
            "min_width": null,
            "object_fit": null,
            "object_position": null,
            "order": null,
            "overflow": null,
            "overflow_x": null,
            "overflow_y": null,
            "padding": null,
            "right": null,
            "top": null,
            "visibility": null,
            "width": null
          }
        },
        "cc03070cd140477aad389953f40181f4": {
          "model_module": "@jupyter-widgets/controls",
          "model_name": "DescriptionStyleModel",
          "model_module_version": "1.5.0",
          "state": {
            "_model_module": "@jupyter-widgets/controls",
            "_model_module_version": "1.5.0",
            "_model_name": "DescriptionStyleModel",
            "_view_count": null,
            "_view_module": "@jupyter-widgets/base",
            "_view_module_version": "1.2.0",
            "_view_name": "StyleView",
            "description_width": ""
          }
        },
        "e6d2a6b9d4ce46ff992af683922fa931": {
          "model_module": "@jupyter-widgets/controls",
          "model_name": "HBoxModel",
          "model_module_version": "1.5.0",
          "state": {
            "_dom_classes": [],
            "_model_module": "@jupyter-widgets/controls",
            "_model_module_version": "1.5.0",
            "_model_name": "HBoxModel",
            "_view_count": null,
            "_view_module": "@jupyter-widgets/controls",
            "_view_module_version": "1.5.0",
            "_view_name": "HBoxView",
            "box_style": "",
            "children": [
              "IPY_MODEL_67d796fcf8414b0db6365de7885739c4",
              "IPY_MODEL_46381a91e12e47c7b991fddb88225bdc",
              "IPY_MODEL_5f917089d0aa492b83343a92aeae7980"
            ],
            "layout": "IPY_MODEL_71b7eb78ffc74cc4a1268020dcad771e"
          }
        },
        "67d796fcf8414b0db6365de7885739c4": {
          "model_module": "@jupyter-widgets/controls",
          "model_name": "HTMLModel",
          "model_module_version": "1.5.0",
          "state": {
            "_dom_classes": [],
            "_model_module": "@jupyter-widgets/controls",
            "_model_module_version": "1.5.0",
            "_model_name": "HTMLModel",
            "_view_count": null,
            "_view_module": "@jupyter-widgets/controls",
            "_view_module_version": "1.5.0",
            "_view_name": "HTMLView",
            "description": "",
            "description_tooltip": null,
            "layout": "IPY_MODEL_4d1bd1a14c1049589a8e4485960de7f2",
            "placeholder": "​",
            "style": "IPY_MODEL_c15b6ecf2f154b94992edc9efaeac024",
            "value": "special_tokens_map.json: 100%"
          }
        },
        "46381a91e12e47c7b991fddb88225bdc": {
          "model_module": "@jupyter-widgets/controls",
          "model_name": "FloatProgressModel",
          "model_module_version": "1.5.0",
          "state": {
            "_dom_classes": [],
            "_model_module": "@jupyter-widgets/controls",
            "_model_module_version": "1.5.0",
            "_model_name": "FloatProgressModel",
            "_view_count": null,
            "_view_module": "@jupyter-widgets/controls",
            "_view_module_version": "1.5.0",
            "_view_name": "ProgressView",
            "bar_style": "success",
            "description": "",
            "description_tooltip": null,
            "layout": "IPY_MODEL_6da39143ac1c40ae958d69101da08fc3",
            "max": 695,
            "min": 0,
            "orientation": "horizontal",
            "style": "IPY_MODEL_544ce8423a8f47b1a5122165e74d1090",
            "value": 695
          }
        },
        "5f917089d0aa492b83343a92aeae7980": {
          "model_module": "@jupyter-widgets/controls",
          "model_name": "HTMLModel",
          "model_module_version": "1.5.0",
          "state": {
            "_dom_classes": [],
            "_model_module": "@jupyter-widgets/controls",
            "_model_module_version": "1.5.0",
            "_model_name": "HTMLModel",
            "_view_count": null,
            "_view_module": "@jupyter-widgets/controls",
            "_view_module_version": "1.5.0",
            "_view_name": "HTMLView",
            "description": "",
            "description_tooltip": null,
            "layout": "IPY_MODEL_7fed6655eff24d5c97ee39eb57d8c0f6",
            "placeholder": "​",
            "style": "IPY_MODEL_10c477222c824f56b57936271bec8f8b",
            "value": " 695/695 [00:00&lt;00:00, 8.67kB/s]"
          }
        },
        "71b7eb78ffc74cc4a1268020dcad771e": {
          "model_module": "@jupyter-widgets/base",
          "model_name": "LayoutModel",
          "model_module_version": "1.2.0",
          "state": {
            "_model_module": "@jupyter-widgets/base",
            "_model_module_version": "1.2.0",
            "_model_name": "LayoutModel",
            "_view_count": null,
            "_view_module": "@jupyter-widgets/base",
            "_view_module_version": "1.2.0",
            "_view_name": "LayoutView",
            "align_content": null,
            "align_items": null,
            "align_self": null,
            "border": null,
            "bottom": null,
            "display": null,
            "flex": null,
            "flex_flow": null,
            "grid_area": null,
            "grid_auto_columns": null,
            "grid_auto_flow": null,
            "grid_auto_rows": null,
            "grid_column": null,
            "grid_gap": null,
            "grid_row": null,
            "grid_template_areas": null,
            "grid_template_columns": null,
            "grid_template_rows": null,
            "height": null,
            "justify_content": null,
            "justify_items": null,
            "left": null,
            "margin": null,
            "max_height": null,
            "max_width": null,
            "min_height": null,
            "min_width": null,
            "object_fit": null,
            "object_position": null,
            "order": null,
            "overflow": null,
            "overflow_x": null,
            "overflow_y": null,
            "padding": null,
            "right": null,
            "top": null,
            "visibility": null,
            "width": null
          }
        },
        "4d1bd1a14c1049589a8e4485960de7f2": {
          "model_module": "@jupyter-widgets/base",
          "model_name": "LayoutModel",
          "model_module_version": "1.2.0",
          "state": {
            "_model_module": "@jupyter-widgets/base",
            "_model_module_version": "1.2.0",
            "_model_name": "LayoutModel",
            "_view_count": null,
            "_view_module": "@jupyter-widgets/base",
            "_view_module_version": "1.2.0",
            "_view_name": "LayoutView",
            "align_content": null,
            "align_items": null,
            "align_self": null,
            "border": null,
            "bottom": null,
            "display": null,
            "flex": null,
            "flex_flow": null,
            "grid_area": null,
            "grid_auto_columns": null,
            "grid_auto_flow": null,
            "grid_auto_rows": null,
            "grid_column": null,
            "grid_gap": null,
            "grid_row": null,
            "grid_template_areas": null,
            "grid_template_columns": null,
            "grid_template_rows": null,
            "height": null,
            "justify_content": null,
            "justify_items": null,
            "left": null,
            "margin": null,
            "max_height": null,
            "max_width": null,
            "min_height": null,
            "min_width": null,
            "object_fit": null,
            "object_position": null,
            "order": null,
            "overflow": null,
            "overflow_x": null,
            "overflow_y": null,
            "padding": null,
            "right": null,
            "top": null,
            "visibility": null,
            "width": null
          }
        },
        "c15b6ecf2f154b94992edc9efaeac024": {
          "model_module": "@jupyter-widgets/controls",
          "model_name": "DescriptionStyleModel",
          "model_module_version": "1.5.0",
          "state": {
            "_model_module": "@jupyter-widgets/controls",
            "_model_module_version": "1.5.0",
            "_model_name": "DescriptionStyleModel",
            "_view_count": null,
            "_view_module": "@jupyter-widgets/base",
            "_view_module_version": "1.2.0",
            "_view_name": "StyleView",
            "description_width": ""
          }
        },
        "6da39143ac1c40ae958d69101da08fc3": {
          "model_module": "@jupyter-widgets/base",
          "model_name": "LayoutModel",
          "model_module_version": "1.2.0",
          "state": {
            "_model_module": "@jupyter-widgets/base",
            "_model_module_version": "1.2.0",
            "_model_name": "LayoutModel",
            "_view_count": null,
            "_view_module": "@jupyter-widgets/base",
            "_view_module_version": "1.2.0",
            "_view_name": "LayoutView",
            "align_content": null,
            "align_items": null,
            "align_self": null,
            "border": null,
            "bottom": null,
            "display": null,
            "flex": null,
            "flex_flow": null,
            "grid_area": null,
            "grid_auto_columns": null,
            "grid_auto_flow": null,
            "grid_auto_rows": null,
            "grid_column": null,
            "grid_gap": null,
            "grid_row": null,
            "grid_template_areas": null,
            "grid_template_columns": null,
            "grid_template_rows": null,
            "height": null,
            "justify_content": null,
            "justify_items": null,
            "left": null,
            "margin": null,
            "max_height": null,
            "max_width": null,
            "min_height": null,
            "min_width": null,
            "object_fit": null,
            "object_position": null,
            "order": null,
            "overflow": null,
            "overflow_x": null,
            "overflow_y": null,
            "padding": null,
            "right": null,
            "top": null,
            "visibility": null,
            "width": null
          }
        },
        "544ce8423a8f47b1a5122165e74d1090": {
          "model_module": "@jupyter-widgets/controls",
          "model_name": "ProgressStyleModel",
          "model_module_version": "1.5.0",
          "state": {
            "_model_module": "@jupyter-widgets/controls",
            "_model_module_version": "1.5.0",
            "_model_name": "ProgressStyleModel",
            "_view_count": null,
            "_view_module": "@jupyter-widgets/base",
            "_view_module_version": "1.2.0",
            "_view_name": "StyleView",
            "bar_color": null,
            "description_width": ""
          }
        },
        "7fed6655eff24d5c97ee39eb57d8c0f6": {
          "model_module": "@jupyter-widgets/base",
          "model_name": "LayoutModel",
          "model_module_version": "1.2.0",
          "state": {
            "_model_module": "@jupyter-widgets/base",
            "_model_module_version": "1.2.0",
            "_model_name": "LayoutModel",
            "_view_count": null,
            "_view_module": "@jupyter-widgets/base",
            "_view_module_version": "1.2.0",
            "_view_name": "LayoutView",
            "align_content": null,
            "align_items": null,
            "align_self": null,
            "border": null,
            "bottom": null,
            "display": null,
            "flex": null,
            "flex_flow": null,
            "grid_area": null,
            "grid_auto_columns": null,
            "grid_auto_flow": null,
            "grid_auto_rows": null,
            "grid_column": null,
            "grid_gap": null,
            "grid_row": null,
            "grid_template_areas": null,
            "grid_template_columns": null,
            "grid_template_rows": null,
            "height": null,
            "justify_content": null,
            "justify_items": null,
            "left": null,
            "margin": null,
            "max_height": null,
            "max_width": null,
            "min_height": null,
            "min_width": null,
            "object_fit": null,
            "object_position": null,
            "order": null,
            "overflow": null,
            "overflow_x": null,
            "overflow_y": null,
            "padding": null,
            "right": null,
            "top": null,
            "visibility": null,
            "width": null
          }
        },
        "10c477222c824f56b57936271bec8f8b": {
          "model_module": "@jupyter-widgets/controls",
          "model_name": "DescriptionStyleModel",
          "model_module_version": "1.5.0",
          "state": {
            "_model_module": "@jupyter-widgets/controls",
            "_model_module_version": "1.5.0",
            "_model_name": "DescriptionStyleModel",
            "_view_count": null,
            "_view_module": "@jupyter-widgets/base",
            "_view_module_version": "1.2.0",
            "_view_name": "StyleView",
            "description_width": ""
          }
        },
        "b95e413ed1334429bf5d4f5d8af2c144": {
          "model_module": "@jupyter-widgets/controls",
          "model_name": "HBoxModel",
          "model_module_version": "1.5.0",
          "state": {
            "_dom_classes": [],
            "_model_module": "@jupyter-widgets/controls",
            "_model_module_version": "1.5.0",
            "_model_name": "HBoxModel",
            "_view_count": null,
            "_view_module": "@jupyter-widgets/controls",
            "_view_module_version": "1.5.0",
            "_view_name": "HBoxView",
            "box_style": "",
            "children": [
              "IPY_MODEL_13e5851f21234c48aa2313f8c4a7c457",
              "IPY_MODEL_635d1f430281416785f00c57e8ee0418",
              "IPY_MODEL_75d7a60ee83b4b67b0ca8d9f0fb29971"
            ],
            "layout": "IPY_MODEL_5e74f4903a304f51a730b76902e3769f"
          }
        },
        "13e5851f21234c48aa2313f8c4a7c457": {
          "model_module": "@jupyter-widgets/controls",
          "model_name": "HTMLModel",
          "model_module_version": "1.5.0",
          "state": {
            "_dom_classes": [],
            "_model_module": "@jupyter-widgets/controls",
            "_model_module_version": "1.5.0",
            "_model_name": "HTMLModel",
            "_view_count": null,
            "_view_module": "@jupyter-widgets/controls",
            "_view_module_version": "1.5.0",
            "_view_name": "HTMLView",
            "description": "",
            "description_tooltip": null,
            "layout": "IPY_MODEL_76b425e48f2e4a67b1fe4bb52e1c1089",
            "placeholder": "​",
            "style": "IPY_MODEL_51ee90ebfccb4a968cf91d3260cdba06",
            "value": "tokenizer_config.json: 100%"
          }
        },
        "635d1f430281416785f00c57e8ee0418": {
          "model_module": "@jupyter-widgets/controls",
          "model_name": "FloatProgressModel",
          "model_module_version": "1.5.0",
          "state": {
            "_dom_classes": [],
            "_model_module": "@jupyter-widgets/controls",
            "_model_module_version": "1.5.0",
            "_model_name": "FloatProgressModel",
            "_view_count": null,
            "_view_module": "@jupyter-widgets/controls",
            "_view_module_version": "1.5.0",
            "_view_name": "ProgressView",
            "bar_style": "success",
            "description": "",
            "description_tooltip": null,
            "layout": "IPY_MODEL_4132f6c079934bddb11ad2ac6770cbe9",
            "max": 1242,
            "min": 0,
            "orientation": "horizontal",
            "style": "IPY_MODEL_e77e54cccb7a4eee8504b29b79d0c553",
            "value": 1242
          }
        },
        "75d7a60ee83b4b67b0ca8d9f0fb29971": {
          "model_module": "@jupyter-widgets/controls",
          "model_name": "HTMLModel",
          "model_module_version": "1.5.0",
          "state": {
            "_dom_classes": [],
            "_model_module": "@jupyter-widgets/controls",
            "_model_module_version": "1.5.0",
            "_model_name": "HTMLModel",
            "_view_count": null,
            "_view_module": "@jupyter-widgets/controls",
            "_view_module_version": "1.5.0",
            "_view_name": "HTMLView",
            "description": "",
            "description_tooltip": null,
            "layout": "IPY_MODEL_bc0adb056b2843218942c5cbbeab3f91",
            "placeholder": "​",
            "style": "IPY_MODEL_d85d4af30c2243f1ab6d333756eb179e",
            "value": " 1.24k/1.24k [00:00&lt;00:00, 14.8kB/s]"
          }
        },
        "5e74f4903a304f51a730b76902e3769f": {
          "model_module": "@jupyter-widgets/base",
          "model_name": "LayoutModel",
          "model_module_version": "1.2.0",
          "state": {
            "_model_module": "@jupyter-widgets/base",
            "_model_module_version": "1.2.0",
            "_model_name": "LayoutModel",
            "_view_count": null,
            "_view_module": "@jupyter-widgets/base",
            "_view_module_version": "1.2.0",
            "_view_name": "LayoutView",
            "align_content": null,
            "align_items": null,
            "align_self": null,
            "border": null,
            "bottom": null,
            "display": null,
            "flex": null,
            "flex_flow": null,
            "grid_area": null,
            "grid_auto_columns": null,
            "grid_auto_flow": null,
            "grid_auto_rows": null,
            "grid_column": null,
            "grid_gap": null,
            "grid_row": null,
            "grid_template_areas": null,
            "grid_template_columns": null,
            "grid_template_rows": null,
            "height": null,
            "justify_content": null,
            "justify_items": null,
            "left": null,
            "margin": null,
            "max_height": null,
            "max_width": null,
            "min_height": null,
            "min_width": null,
            "object_fit": null,
            "object_position": null,
            "order": null,
            "overflow": null,
            "overflow_x": null,
            "overflow_y": null,
            "padding": null,
            "right": null,
            "top": null,
            "visibility": null,
            "width": null
          }
        },
        "76b425e48f2e4a67b1fe4bb52e1c1089": {
          "model_module": "@jupyter-widgets/base",
          "model_name": "LayoutModel",
          "model_module_version": "1.2.0",
          "state": {
            "_model_module": "@jupyter-widgets/base",
            "_model_module_version": "1.2.0",
            "_model_name": "LayoutModel",
            "_view_count": null,
            "_view_module": "@jupyter-widgets/base",
            "_view_module_version": "1.2.0",
            "_view_name": "LayoutView",
            "align_content": null,
            "align_items": null,
            "align_self": null,
            "border": null,
            "bottom": null,
            "display": null,
            "flex": null,
            "flex_flow": null,
            "grid_area": null,
            "grid_auto_columns": null,
            "grid_auto_flow": null,
            "grid_auto_rows": null,
            "grid_column": null,
            "grid_gap": null,
            "grid_row": null,
            "grid_template_areas": null,
            "grid_template_columns": null,
            "grid_template_rows": null,
            "height": null,
            "justify_content": null,
            "justify_items": null,
            "left": null,
            "margin": null,
            "max_height": null,
            "max_width": null,
            "min_height": null,
            "min_width": null,
            "object_fit": null,
            "object_position": null,
            "order": null,
            "overflow": null,
            "overflow_x": null,
            "overflow_y": null,
            "padding": null,
            "right": null,
            "top": null,
            "visibility": null,
            "width": null
          }
        },
        "51ee90ebfccb4a968cf91d3260cdba06": {
          "model_module": "@jupyter-widgets/controls",
          "model_name": "DescriptionStyleModel",
          "model_module_version": "1.5.0",
          "state": {
            "_model_module": "@jupyter-widgets/controls",
            "_model_module_version": "1.5.0",
            "_model_name": "DescriptionStyleModel",
            "_view_count": null,
            "_view_module": "@jupyter-widgets/base",
            "_view_module_version": "1.2.0",
            "_view_name": "StyleView",
            "description_width": ""
          }
        },
        "4132f6c079934bddb11ad2ac6770cbe9": {
          "model_module": "@jupyter-widgets/base",
          "model_name": "LayoutModel",
          "model_module_version": "1.2.0",
          "state": {
            "_model_module": "@jupyter-widgets/base",
            "_model_module_version": "1.2.0",
            "_model_name": "LayoutModel",
            "_view_count": null,
            "_view_module": "@jupyter-widgets/base",
            "_view_module_version": "1.2.0",
            "_view_name": "LayoutView",
            "align_content": null,
            "align_items": null,
            "align_self": null,
            "border": null,
            "bottom": null,
            "display": null,
            "flex": null,
            "flex_flow": null,
            "grid_area": null,
            "grid_auto_columns": null,
            "grid_auto_flow": null,
            "grid_auto_rows": null,
            "grid_column": null,
            "grid_gap": null,
            "grid_row": null,
            "grid_template_areas": null,
            "grid_template_columns": null,
            "grid_template_rows": null,
            "height": null,
            "justify_content": null,
            "justify_items": null,
            "left": null,
            "margin": null,
            "max_height": null,
            "max_width": null,
            "min_height": null,
            "min_width": null,
            "object_fit": null,
            "object_position": null,
            "order": null,
            "overflow": null,
            "overflow_x": null,
            "overflow_y": null,
            "padding": null,
            "right": null,
            "top": null,
            "visibility": null,
            "width": null
          }
        },
        "e77e54cccb7a4eee8504b29b79d0c553": {
          "model_module": "@jupyter-widgets/controls",
          "model_name": "ProgressStyleModel",
          "model_module_version": "1.5.0",
          "state": {
            "_model_module": "@jupyter-widgets/controls",
            "_model_module_version": "1.5.0",
            "_model_name": "ProgressStyleModel",
            "_view_count": null,
            "_view_module": "@jupyter-widgets/base",
            "_view_module_version": "1.2.0",
            "_view_name": "StyleView",
            "bar_color": null,
            "description_width": ""
          }
        },
        "bc0adb056b2843218942c5cbbeab3f91": {
          "model_module": "@jupyter-widgets/base",
          "model_name": "LayoutModel",
          "model_module_version": "1.2.0",
          "state": {
            "_model_module": "@jupyter-widgets/base",
            "_model_module_version": "1.2.0",
            "_model_name": "LayoutModel",
            "_view_count": null,
            "_view_module": "@jupyter-widgets/base",
            "_view_module_version": "1.2.0",
            "_view_name": "LayoutView",
            "align_content": null,
            "align_items": null,
            "align_self": null,
            "border": null,
            "bottom": null,
            "display": null,
            "flex": null,
            "flex_flow": null,
            "grid_area": null,
            "grid_auto_columns": null,
            "grid_auto_flow": null,
            "grid_auto_rows": null,
            "grid_column": null,
            "grid_gap": null,
            "grid_row": null,
            "grid_template_areas": null,
            "grid_template_columns": null,
            "grid_template_rows": null,
            "height": null,
            "justify_content": null,
            "justify_items": null,
            "left": null,
            "margin": null,
            "max_height": null,
            "max_width": null,
            "min_height": null,
            "min_width": null,
            "object_fit": null,
            "object_position": null,
            "order": null,
            "overflow": null,
            "overflow_x": null,
            "overflow_y": null,
            "padding": null,
            "right": null,
            "top": null,
            "visibility": null,
            "width": null
          }
        },
        "d85d4af30c2243f1ab6d333756eb179e": {
          "model_module": "@jupyter-widgets/controls",
          "model_name": "DescriptionStyleModel",
          "model_module_version": "1.5.0",
          "state": {
            "_model_module": "@jupyter-widgets/controls",
            "_model_module_version": "1.5.0",
            "_model_name": "DescriptionStyleModel",
            "_view_count": null,
            "_view_module": "@jupyter-widgets/base",
            "_view_module_version": "1.2.0",
            "_view_name": "StyleView",
            "description_width": ""
          }
        },
        "7bb753a53def4ace880961839634655e": {
          "model_module": "@jupyter-widgets/controls",
          "model_name": "HBoxModel",
          "model_module_version": "1.5.0",
          "state": {
            "_dom_classes": [],
            "_model_module": "@jupyter-widgets/controls",
            "_model_module_version": "1.5.0",
            "_model_name": "HBoxModel",
            "_view_count": null,
            "_view_module": "@jupyter-widgets/controls",
            "_view_module_version": "1.5.0",
            "_view_name": "HBoxView",
            "box_style": "",
            "children": [
              "IPY_MODEL_a3c6c1d7481040768f0f0bf944e614ee",
              "IPY_MODEL_30b1a6c70de54bc68e08e425f3b4c01b",
              "IPY_MODEL_f74fde3d164044119c78fd222cb64d72"
            ],
            "layout": "IPY_MODEL_1b524b93a8bb4bcbb8920aa1b2950a6c"
          }
        },
        "a3c6c1d7481040768f0f0bf944e614ee": {
          "model_module": "@jupyter-widgets/controls",
          "model_name": "HTMLModel",
          "model_module_version": "1.5.0",
          "state": {
            "_dom_classes": [],
            "_model_module": "@jupyter-widgets/controls",
            "_model_module_version": "1.5.0",
            "_model_name": "HTMLModel",
            "_view_count": null,
            "_view_module": "@jupyter-widgets/controls",
            "_view_module_version": "1.5.0",
            "_view_name": "HTMLView",
            "description": "",
            "description_tooltip": null,
            "layout": "IPY_MODEL_612b19a6ede047c0bfcbd0d4446970b1",
            "placeholder": "​",
            "style": "IPY_MODEL_864e1ae8786146edaa8c163f0dc84a22",
            "value": "tokenizer.json: 100%"
          }
        },
        "30b1a6c70de54bc68e08e425f3b4c01b": {
          "model_module": "@jupyter-widgets/controls",
          "model_name": "FloatProgressModel",
          "model_module_version": "1.5.0",
          "state": {
            "_dom_classes": [],
            "_model_module": "@jupyter-widgets/controls",
            "_model_module_version": "1.5.0",
            "_model_name": "FloatProgressModel",
            "_view_count": null,
            "_view_module": "@jupyter-widgets/controls",
            "_view_module_version": "1.5.0",
            "_view_name": "ProgressView",
            "bar_style": "success",
            "description": "",
            "description_tooltip": null,
            "layout": "IPY_MODEL_9f4d0b7c61734ff3b38e0f32bc8f4ef1",
            "max": 711396,
            "min": 0,
            "orientation": "horizontal",
            "style": "IPY_MODEL_c47fcbeee94543aaa6153d03e9d17d47",
            "value": 711396
          }
        },
        "f74fde3d164044119c78fd222cb64d72": {
          "model_module": "@jupyter-widgets/controls",
          "model_name": "HTMLModel",
          "model_module_version": "1.5.0",
          "state": {
            "_dom_classes": [],
            "_model_module": "@jupyter-widgets/controls",
            "_model_module_version": "1.5.0",
            "_model_name": "HTMLModel",
            "_view_count": null,
            "_view_module": "@jupyter-widgets/controls",
            "_view_module_version": "1.5.0",
            "_view_name": "HTMLView",
            "description": "",
            "description_tooltip": null,
            "layout": "IPY_MODEL_0cb6177f5ef34f149bcac222d1a79931",
            "placeholder": "​",
            "style": "IPY_MODEL_bcfb9c5305d54a2f8fcfa037dde68f65",
            "value": " 711k/711k [00:00&lt;00:00, 3.86MB/s]"
          }
        },
        "1b524b93a8bb4bcbb8920aa1b2950a6c": {
          "model_module": "@jupyter-widgets/base",
          "model_name": "LayoutModel",
          "model_module_version": "1.2.0",
          "state": {
            "_model_module": "@jupyter-widgets/base",
            "_model_module_version": "1.2.0",
            "_model_name": "LayoutModel",
            "_view_count": null,
            "_view_module": "@jupyter-widgets/base",
            "_view_module_version": "1.2.0",
            "_view_name": "LayoutView",
            "align_content": null,
            "align_items": null,
            "align_self": null,
            "border": null,
            "bottom": null,
            "display": null,
            "flex": null,
            "flex_flow": null,
            "grid_area": null,
            "grid_auto_columns": null,
            "grid_auto_flow": null,
            "grid_auto_rows": null,
            "grid_column": null,
            "grid_gap": null,
            "grid_row": null,
            "grid_template_areas": null,
            "grid_template_columns": null,
            "grid_template_rows": null,
            "height": null,
            "justify_content": null,
            "justify_items": null,
            "left": null,
            "margin": null,
            "max_height": null,
            "max_width": null,
            "min_height": null,
            "min_width": null,
            "object_fit": null,
            "object_position": null,
            "order": null,
            "overflow": null,
            "overflow_x": null,
            "overflow_y": null,
            "padding": null,
            "right": null,
            "top": null,
            "visibility": null,
            "width": null
          }
        },
        "612b19a6ede047c0bfcbd0d4446970b1": {
          "model_module": "@jupyter-widgets/base",
          "model_name": "LayoutModel",
          "model_module_version": "1.2.0",
          "state": {
            "_model_module": "@jupyter-widgets/base",
            "_model_module_version": "1.2.0",
            "_model_name": "LayoutModel",
            "_view_count": null,
            "_view_module": "@jupyter-widgets/base",
            "_view_module_version": "1.2.0",
            "_view_name": "LayoutView",
            "align_content": null,
            "align_items": null,
            "align_self": null,
            "border": null,
            "bottom": null,
            "display": null,
            "flex": null,
            "flex_flow": null,
            "grid_area": null,
            "grid_auto_columns": null,
            "grid_auto_flow": null,
            "grid_auto_rows": null,
            "grid_column": null,
            "grid_gap": null,
            "grid_row": null,
            "grid_template_areas": null,
            "grid_template_columns": null,
            "grid_template_rows": null,
            "height": null,
            "justify_content": null,
            "justify_items": null,
            "left": null,
            "margin": null,
            "max_height": null,
            "max_width": null,
            "min_height": null,
            "min_width": null,
            "object_fit": null,
            "object_position": null,
            "order": null,
            "overflow": null,
            "overflow_x": null,
            "overflow_y": null,
            "padding": null,
            "right": null,
            "top": null,
            "visibility": null,
            "width": null
          }
        },
        "864e1ae8786146edaa8c163f0dc84a22": {
          "model_module": "@jupyter-widgets/controls",
          "model_name": "DescriptionStyleModel",
          "model_module_version": "1.5.0",
          "state": {
            "_model_module": "@jupyter-widgets/controls",
            "_model_module_version": "1.5.0",
            "_model_name": "DescriptionStyleModel",
            "_view_count": null,
            "_view_module": "@jupyter-widgets/base",
            "_view_module_version": "1.2.0",
            "_view_name": "StyleView",
            "description_width": ""
          }
        },
        "9f4d0b7c61734ff3b38e0f32bc8f4ef1": {
          "model_module": "@jupyter-widgets/base",
          "model_name": "LayoutModel",
          "model_module_version": "1.2.0",
          "state": {
            "_model_module": "@jupyter-widgets/base",
            "_model_module_version": "1.2.0",
            "_model_name": "LayoutModel",
            "_view_count": null,
            "_view_module": "@jupyter-widgets/base",
            "_view_module_version": "1.2.0",
            "_view_name": "LayoutView",
            "align_content": null,
            "align_items": null,
            "align_self": null,
            "border": null,
            "bottom": null,
            "display": null,
            "flex": null,
            "flex_flow": null,
            "grid_area": null,
            "grid_auto_columns": null,
            "grid_auto_flow": null,
            "grid_auto_rows": null,
            "grid_column": null,
            "grid_gap": null,
            "grid_row": null,
            "grid_template_areas": null,
            "grid_template_columns": null,
            "grid_template_rows": null,
            "height": null,
            "justify_content": null,
            "justify_items": null,
            "left": null,
            "margin": null,
            "max_height": null,
            "max_width": null,
            "min_height": null,
            "min_width": null,
            "object_fit": null,
            "object_position": null,
            "order": null,
            "overflow": null,
            "overflow_x": null,
            "overflow_y": null,
            "padding": null,
            "right": null,
            "top": null,
            "visibility": null,
            "width": null
          }
        },
        "c47fcbeee94543aaa6153d03e9d17d47": {
          "model_module": "@jupyter-widgets/controls",
          "model_name": "ProgressStyleModel",
          "model_module_version": "1.5.0",
          "state": {
            "_model_module": "@jupyter-widgets/controls",
            "_model_module_version": "1.5.0",
            "_model_name": "ProgressStyleModel",
            "_view_count": null,
            "_view_module": "@jupyter-widgets/base",
            "_view_module_version": "1.2.0",
            "_view_name": "StyleView",
            "bar_color": null,
            "description_width": ""
          }
        },
        "0cb6177f5ef34f149bcac222d1a79931": {
          "model_module": "@jupyter-widgets/base",
          "model_name": "LayoutModel",
          "model_module_version": "1.2.0",
          "state": {
            "_model_module": "@jupyter-widgets/base",
            "_model_module_version": "1.2.0",
            "_model_name": "LayoutModel",
            "_view_count": null,
            "_view_module": "@jupyter-widgets/base",
            "_view_module_version": "1.2.0",
            "_view_name": "LayoutView",
            "align_content": null,
            "align_items": null,
            "align_self": null,
            "border": null,
            "bottom": null,
            "display": null,
            "flex": null,
            "flex_flow": null,
            "grid_area": null,
            "grid_auto_columns": null,
            "grid_auto_flow": null,
            "grid_auto_rows": null,
            "grid_column": null,
            "grid_gap": null,
            "grid_row": null,
            "grid_template_areas": null,
            "grid_template_columns": null,
            "grid_template_rows": null,
            "height": null,
            "justify_content": null,
            "justify_items": null,
            "left": null,
            "margin": null,
            "max_height": null,
            "max_width": null,
            "min_height": null,
            "min_width": null,
            "object_fit": null,
            "object_position": null,
            "order": null,
            "overflow": null,
            "overflow_x": null,
            "overflow_y": null,
            "padding": null,
            "right": null,
            "top": null,
            "visibility": null,
            "width": null
          }
        },
        "bcfb9c5305d54a2f8fcfa037dde68f65": {
          "model_module": "@jupyter-widgets/controls",
          "model_name": "DescriptionStyleModel",
          "model_module_version": "1.5.0",
          "state": {
            "_model_module": "@jupyter-widgets/controls",
            "_model_module_version": "1.5.0",
            "_model_name": "DescriptionStyleModel",
            "_view_count": null,
            "_view_module": "@jupyter-widgets/base",
            "_view_module_version": "1.2.0",
            "_view_name": "StyleView",
            "description_width": ""
          }
        },
        "0e4f50c5752d4a73aa04f1cb05ff1b68": {
          "model_module": "@jupyter-widgets/controls",
          "model_name": "HBoxModel",
          "model_module_version": "1.5.0",
          "state": {
            "_dom_classes": [],
            "_model_module": "@jupyter-widgets/controls",
            "_model_module_version": "1.5.0",
            "_model_name": "HBoxModel",
            "_view_count": null,
            "_view_module": "@jupyter-widgets/controls",
            "_view_module_version": "1.5.0",
            "_view_name": "HBoxView",
            "box_style": "",
            "children": [
              "IPY_MODEL_ac2476c5cc5848ee9f0e0facd24480d0",
              "IPY_MODEL_e95370c2fb2e492f96af4f147f3a37d4",
              "IPY_MODEL_58d0a86e94694e20b9a04006f2567234"
            ],
            "layout": "IPY_MODEL_ec65468eeebd4bdeb238a24b1e2926d7"
          }
        },
        "ac2476c5cc5848ee9f0e0facd24480d0": {
          "model_module": "@jupyter-widgets/controls",
          "model_name": "HTMLModel",
          "model_module_version": "1.5.0",
          "state": {
            "_dom_classes": [],
            "_model_module": "@jupyter-widgets/controls",
            "_model_module_version": "1.5.0",
            "_model_name": "HTMLModel",
            "_view_count": null,
            "_view_module": "@jupyter-widgets/controls",
            "_view_module_version": "1.5.0",
            "_view_name": "HTMLView",
            "description": "",
            "description_tooltip": null,
            "layout": "IPY_MODEL_038f8cafac7f454096cac92db39cabf3",
            "placeholder": "​",
            "style": "IPY_MODEL_58bd4f40fc254b599fb962995bdc857f",
            "value": "model_optimized.onnx: 100%"
          }
        },
        "e95370c2fb2e492f96af4f147f3a37d4": {
          "model_module": "@jupyter-widgets/controls",
          "model_name": "FloatProgressModel",
          "model_module_version": "1.5.0",
          "state": {
            "_dom_classes": [],
            "_model_module": "@jupyter-widgets/controls",
            "_model_module_version": "1.5.0",
            "_model_name": "FloatProgressModel",
            "_view_count": null,
            "_view_module": "@jupyter-widgets/controls",
            "_view_module_version": "1.5.0",
            "_view_name": "ProgressView",
            "bar_style": "success",
            "description": "",
            "description_tooltip": null,
            "layout": "IPY_MODEL_6fb707b0b024428bb749ee822530cebe",
            "max": 217824172,
            "min": 0,
            "orientation": "horizontal",
            "style": "IPY_MODEL_cb56591a92884ad6b9757045a9c366f3",
            "value": 217824172
          }
        },
        "58d0a86e94694e20b9a04006f2567234": {
          "model_module": "@jupyter-widgets/controls",
          "model_name": "HTMLModel",
          "model_module_version": "1.5.0",
          "state": {
            "_dom_classes": [],
            "_model_module": "@jupyter-widgets/controls",
            "_model_module_version": "1.5.0",
            "_model_name": "HTMLModel",
            "_view_count": null,
            "_view_module": "@jupyter-widgets/controls",
            "_view_module_version": "1.5.0",
            "_view_name": "HTMLView",
            "description": "",
            "description_tooltip": null,
            "layout": "IPY_MODEL_50e53497a9c747c88a6adf54781ab425",
            "placeholder": "​",
            "style": "IPY_MODEL_26b0c984575449958305b3e725afeea2",
            "value": " 218M/218M [00:02&lt;00:00, 139MB/s]"
          }
        },
        "ec65468eeebd4bdeb238a24b1e2926d7": {
          "model_module": "@jupyter-widgets/base",
          "model_name": "LayoutModel",
          "model_module_version": "1.2.0",
          "state": {
            "_model_module": "@jupyter-widgets/base",
            "_model_module_version": "1.2.0",
            "_model_name": "LayoutModel",
            "_view_count": null,
            "_view_module": "@jupyter-widgets/base",
            "_view_module_version": "1.2.0",
            "_view_name": "LayoutView",
            "align_content": null,
            "align_items": null,
            "align_self": null,
            "border": null,
            "bottom": null,
            "display": null,
            "flex": null,
            "flex_flow": null,
            "grid_area": null,
            "grid_auto_columns": null,
            "grid_auto_flow": null,
            "grid_auto_rows": null,
            "grid_column": null,
            "grid_gap": null,
            "grid_row": null,
            "grid_template_areas": null,
            "grid_template_columns": null,
            "grid_template_rows": null,
            "height": null,
            "justify_content": null,
            "justify_items": null,
            "left": null,
            "margin": null,
            "max_height": null,
            "max_width": null,
            "min_height": null,
            "min_width": null,
            "object_fit": null,
            "object_position": null,
            "order": null,
            "overflow": null,
            "overflow_x": null,
            "overflow_y": null,
            "padding": null,
            "right": null,
            "top": null,
            "visibility": null,
            "width": null
          }
        },
        "038f8cafac7f454096cac92db39cabf3": {
          "model_module": "@jupyter-widgets/base",
          "model_name": "LayoutModel",
          "model_module_version": "1.2.0",
          "state": {
            "_model_module": "@jupyter-widgets/base",
            "_model_module_version": "1.2.0",
            "_model_name": "LayoutModel",
            "_view_count": null,
            "_view_module": "@jupyter-widgets/base",
            "_view_module_version": "1.2.0",
            "_view_name": "LayoutView",
            "align_content": null,
            "align_items": null,
            "align_self": null,
            "border": null,
            "bottom": null,
            "display": null,
            "flex": null,
            "flex_flow": null,
            "grid_area": null,
            "grid_auto_columns": null,
            "grid_auto_flow": null,
            "grid_auto_rows": null,
            "grid_column": null,
            "grid_gap": null,
            "grid_row": null,
            "grid_template_areas": null,
            "grid_template_columns": null,
            "grid_template_rows": null,
            "height": null,
            "justify_content": null,
            "justify_items": null,
            "left": null,
            "margin": null,
            "max_height": null,
            "max_width": null,
            "min_height": null,
            "min_width": null,
            "object_fit": null,
            "object_position": null,
            "order": null,
            "overflow": null,
            "overflow_x": null,
            "overflow_y": null,
            "padding": null,
            "right": null,
            "top": null,
            "visibility": null,
            "width": null
          }
        },
        "58bd4f40fc254b599fb962995bdc857f": {
          "model_module": "@jupyter-widgets/controls",
          "model_name": "DescriptionStyleModel",
          "model_module_version": "1.5.0",
          "state": {
            "_model_module": "@jupyter-widgets/controls",
            "_model_module_version": "1.5.0",
            "_model_name": "DescriptionStyleModel",
            "_view_count": null,
            "_view_module": "@jupyter-widgets/base",
            "_view_module_version": "1.2.0",
            "_view_name": "StyleView",
            "description_width": ""
          }
        },
        "6fb707b0b024428bb749ee822530cebe": {
          "model_module": "@jupyter-widgets/base",
          "model_name": "LayoutModel",
          "model_module_version": "1.2.0",
          "state": {
            "_model_module": "@jupyter-widgets/base",
            "_model_module_version": "1.2.0",
            "_model_name": "LayoutModel",
            "_view_count": null,
            "_view_module": "@jupyter-widgets/base",
            "_view_module_version": "1.2.0",
            "_view_name": "LayoutView",
            "align_content": null,
            "align_items": null,
            "align_self": null,
            "border": null,
            "bottom": null,
            "display": null,
            "flex": null,
            "flex_flow": null,
            "grid_area": null,
            "grid_auto_columns": null,
            "grid_auto_flow": null,
            "grid_auto_rows": null,
            "grid_column": null,
            "grid_gap": null,
            "grid_row": null,
            "grid_template_areas": null,
            "grid_template_columns": null,
            "grid_template_rows": null,
            "height": null,
            "justify_content": null,
            "justify_items": null,
            "left": null,
            "margin": null,
            "max_height": null,
            "max_width": null,
            "min_height": null,
            "min_width": null,
            "object_fit": null,
            "object_position": null,
            "order": null,
            "overflow": null,
            "overflow_x": null,
            "overflow_y": null,
            "padding": null,
            "right": null,
            "top": null,
            "visibility": null,
            "width": null
          }
        },
        "cb56591a92884ad6b9757045a9c366f3": {
          "model_module": "@jupyter-widgets/controls",
          "model_name": "ProgressStyleModel",
          "model_module_version": "1.5.0",
          "state": {
            "_model_module": "@jupyter-widgets/controls",
            "_model_module_version": "1.5.0",
            "_model_name": "ProgressStyleModel",
            "_view_count": null,
            "_view_module": "@jupyter-widgets/base",
            "_view_module_version": "1.2.0",
            "_view_name": "StyleView",
            "bar_color": null,
            "description_width": ""
          }
        },
        "50e53497a9c747c88a6adf54781ab425": {
          "model_module": "@jupyter-widgets/base",
          "model_name": "LayoutModel",
          "model_module_version": "1.2.0",
          "state": {
            "_model_module": "@jupyter-widgets/base",
            "_model_module_version": "1.2.0",
            "_model_name": "LayoutModel",
            "_view_count": null,
            "_view_module": "@jupyter-widgets/base",
            "_view_module_version": "1.2.0",
            "_view_name": "LayoutView",
            "align_content": null,
            "align_items": null,
            "align_self": null,
            "border": null,
            "bottom": null,
            "display": null,
            "flex": null,
            "flex_flow": null,
            "grid_area": null,
            "grid_auto_columns": null,
            "grid_auto_flow": null,
            "grid_auto_rows": null,
            "grid_column": null,
            "grid_gap": null,
            "grid_row": null,
            "grid_template_areas": null,
            "grid_template_columns": null,
            "grid_template_rows": null,
            "height": null,
            "justify_content": null,
            "justify_items": null,
            "left": null,
            "margin": null,
            "max_height": null,
            "max_width": null,
            "min_height": null,
            "min_width": null,
            "object_fit": null,
            "object_position": null,
            "order": null,
            "overflow": null,
            "overflow_x": null,
            "overflow_y": null,
            "padding": null,
            "right": null,
            "top": null,
            "visibility": null,
            "width": null
          }
        },
        "26b0c984575449958305b3e725afeea2": {
          "model_module": "@jupyter-widgets/controls",
          "model_name": "DescriptionStyleModel",
          "model_module_version": "1.5.0",
          "state": {
            "_model_module": "@jupyter-widgets/controls",
            "_model_module_version": "1.5.0",
            "_model_name": "DescriptionStyleModel",
            "_view_count": null,
            "_view_module": "@jupyter-widgets/base",
            "_view_module_version": "1.2.0",
            "_view_name": "StyleView",
            "description_width": ""
          }
        }
      }
    }
  },
  "cells": [
    {
      "cell_type": "markdown",
      "metadata": {
        "id": "view-in-github",
        "colab_type": "text"
      },
      "source": [
        "<a href=\"https://colab.research.google.com/github/kaybrian/ML_/blob/main/LLM_RAG_with_llama.ipynb\" target=\"_parent\"><img src=\"https://colab.research.google.com/assets/colab-badge.svg\" alt=\"Open In Colab\"/></a>"
      ]
    },
    {
      "cell_type": "code",
      "execution_count": 2,
      "metadata": {
        "colab": {
          "base_uri": "https://localhost:8080/"
        },
        "id": "DkU3GznoP0-Z",
        "outputId": "fb4e3701-5a08-4a9a-8047-e855f4a6ab0c"
      },
      "outputs": [
        {
          "output_type": "stream",
          "name": "stdout",
          "text": [
            "\u001b[33mWARNING: Running pip as the 'root' user can result in broken permissions and conflicting behaviour with the system package manager, possibly rendering your system unusable.It is recommended to use a virtual environment instead: https://pip.pypa.io/warnings/venv. Use the --root-user-action option if you know what you are doing and want to suppress this warning.\u001b[0m\u001b[33m\n",
            "\u001b[0m\u001b[31mERROR: pip's dependency resolver does not currently take into account all the packages that are installed. This behaviour is the source of the following dependency conflicts.\n",
            "cudf-cu12 24.4.1 requires pyarrow<15.0.0a0,>=14.0.1, but you have pyarrow 17.0.0 which is incompatible.\u001b[0m\u001b[31m\n",
            "\u001b[0m\u001b[33mWARNING: Running pip as the 'root' user can result in broken permissions and conflicting behaviour with the system package manager, possibly rendering your system unusable.It is recommended to use a virtual environment instead: https://pip.pypa.io/warnings/venv. Use the --root-user-action option if you know what you are doing and want to suppress this warning.\u001b[0m\u001b[33m\n",
            "\u001b[0m\u001b[33mWARNING: Running pip as the 'root' user can result in broken permissions and conflicting behaviour with the system package manager, possibly rendering your system unusable.It is recommended to use a virtual environment instead: https://pip.pypa.io/warnings/venv. Use the --root-user-action option if you know what you are doing and want to suppress this warning.\u001b[0m\u001b[33m\n",
            "\u001b[0m\u001b[33mWARNING: Running pip as the 'root' user can result in broken permissions and conflicting behaviour with the system package manager, possibly rendering your system unusable.It is recommended to use a virtual environment instead: https://pip.pypa.io/warnings/venv. Use the --root-user-action option if you know what you are doing and want to suppress this warning.\u001b[0m\u001b[33m\n",
            "\u001b[0m\u001b[31mERROR: pip's dependency resolver does not currently take into account all the packages that are installed. This behaviour is the source of the following dependency conflicts.\n",
            "cudf-cu12 24.4.1 requires protobuf<5,>=3.20, but you have protobuf 5.27.2 which is incompatible.\n",
            "cudf-cu12 24.4.1 requires pyarrow<15.0.0a0,>=14.0.1, but you have pyarrow 17.0.0 which is incompatible.\n",
            "google-ai-generativelanguage 0.6.4 requires protobuf!=3.20.0,!=3.20.1,!=4.21.0,!=4.21.1,!=4.21.2,!=4.21.3,!=4.21.4,!=4.21.5,<5.0.0dev,>=3.19.5, but you have protobuf 5.27.2 which is incompatible.\n",
            "google-api-core 2.16.2 requires protobuf!=3.20.0,!=3.20.1,!=4.21.0,!=4.21.1,!=4.21.2,!=4.21.3,!=4.21.4,!=4.21.5,<5.0.0.dev0,>=3.19.5, but you have protobuf 5.27.2 which is incompatible.\n",
            "google-cloud-aiplatform 1.59.0 requires protobuf!=3.20.0,!=3.20.1,!=4.21.0,!=4.21.1,!=4.21.2,!=4.21.3,!=4.21.4,!=4.21.5,<5.0.0dev,>=3.19.5, but you have protobuf 5.27.2 which is incompatible.\n",
            "google-cloud-bigquery-connection 1.12.1 requires protobuf!=3.20.0,!=3.20.1,!=4.21.0,!=4.21.1,!=4.21.2,!=4.21.3,!=4.21.4,!=4.21.5,<5.0.0dev,>=3.19.5, but you have protobuf 5.27.2 which is incompatible.\n",
            "google-cloud-bigquery-storage 2.25.0 requires protobuf!=3.20.0,!=3.20.1,!=4.21.0,!=4.21.1,!=4.21.2,!=4.21.3,!=4.21.4,!=4.21.5,<5.0.0dev,>=3.19.5, but you have protobuf 5.27.2 which is incompatible.\n",
            "google-cloud-bigtable 2.24.0 requires protobuf!=3.20.0,!=3.20.1,!=4.21.0,!=4.21.1,!=4.21.2,!=4.21.3,!=4.21.4,!=4.21.5,<5.0.0dev,>=3.19.5, but you have protobuf 5.27.2 which is incompatible.\n",
            "google-cloud-datastore 2.15.2 requires protobuf!=3.20.0,!=3.20.1,!=4.21.0,!=4.21.1,!=4.21.2,!=4.21.3,!=4.21.4,!=4.21.5,<5.0.0dev,>=3.19.5, but you have protobuf 5.27.2 which is incompatible.\n",
            "google-cloud-firestore 2.11.1 requires protobuf!=3.20.0,!=3.20.1,!=4.21.0,!=4.21.1,!=4.21.2,!=4.21.3,!=4.21.4,!=4.21.5,<5.0.0dev,>=3.19.5, but you have protobuf 5.27.2 which is incompatible.\n",
            "google-cloud-functions 1.13.3 requires protobuf!=3.20.0,!=3.20.1,!=4.21.0,!=4.21.1,!=4.21.2,!=4.21.3,!=4.21.4,!=4.21.5,<5.0.0dev,>=3.19.5, but you have protobuf 5.27.2 which is incompatible.\n",
            "google-cloud-translate 3.11.3 requires protobuf!=3.20.0,!=3.20.1,!=4.21.0,!=4.21.1,!=4.21.2,!=4.21.3,!=4.21.4,!=4.21.5,<5.0.0dev,>=3.19.5, but you have protobuf 5.27.2 which is incompatible.\n",
            "tensorflow 2.15.0 requires protobuf!=4.21.0,!=4.21.1,!=4.21.2,!=4.21.3,!=4.21.4,!=4.21.5,<5.0.0dev,>=3.20.3, but you have protobuf 5.27.2 which is incompatible.\n",
            "tensorflow-metadata 1.15.0 requires protobuf<4.21,>=3.20.3; python_version < \"3.11\", but you have protobuf 5.27.2 which is incompatible.\u001b[0m\u001b[31m\n",
            "\u001b[0m\u001b[33mWARNING: Running pip as the 'root' user can result in broken permissions and conflicting behaviour with the system package manager, possibly rendering your system unusable.It is recommended to use a virtual environment instead: https://pip.pypa.io/warnings/venv. Use the --root-user-action option if you know what you are doing and want to suppress this warning.\u001b[0m\u001b[33m\n",
            "\u001b[0m  Preparing metadata (setup.py) ... \u001b[?25l\u001b[?25hdone\n",
            "  Building wheel for langdetect (setup.py) ... \u001b[?25l\u001b[?25hdone\n",
            "\u001b[33mWARNING: Running pip as the 'root' user can result in broken permissions and conflicting behaviour with the system package manager, possibly rendering your system unusable.It is recommended to use a virtual environment instead: https://pip.pypa.io/warnings/venv. Use the --root-user-action option if you know what you are doing and want to suppress this warning.\u001b[0m\u001b[33m\n",
            "\u001b[0m\u001b[31mERROR: pip's dependency resolver does not currently take into account all the packages that are installed. This behaviour is the source of the following dependency conflicts.\n",
            "datasets 2.20.0 requires huggingface-hub>=0.21.2, but you have huggingface-hub 0.20.3 which is incompatible.\n",
            "transformers 4.42.4 requires huggingface-hub<1.0,>=0.23.2, but you have huggingface-hub 0.20.3 which is incompatible.\n",
            "transformers 4.42.4 requires tokenizers<0.20,>=0.19, but you have tokenizers 0.15.2 which is incompatible.\u001b[0m\u001b[31m\n",
            "\u001b[0m\u001b[33mWARNING: Running pip as the 'root' user can result in broken permissions and conflicting behaviour with the system package manager, possibly rendering your system unusable.It is recommended to use a virtual environment instead: https://pip.pypa.io/warnings/venv. Use the --root-user-action option if you know what you are doing and want to suppress this warning.\u001b[0m\u001b[33m\n",
            "\u001b[0m  Installing build dependencies ... \u001b[?25l\u001b[?25hdone\n",
            "  Getting requirements to build wheel ... \u001b[?25l\u001b[?25hdone\n",
            "  Installing backend dependencies ... \u001b[?25l\u001b[?25hdone\n",
            "  Preparing metadata (pyproject.toml) ... \u001b[?25l\u001b[?25hdone\n",
            "  Building wheel for llama-cpp-python (pyproject.toml) ... \u001b[?25l\u001b[?25hdone\n",
            "\u001b[33mWARNING: Running pip as the 'root' user can result in broken permissions and conflicting behaviour with the system package manager, possibly rendering your system unusable.It is recommended to use a virtual environment instead: https://pip.pypa.io/warnings/venv. Use the --root-user-action option if you know what you are doing and want to suppress this warning.\u001b[0m\u001b[33m\n",
            "\u001b[0m"
          ]
        }
      ],
      "source": [
        "\n",
        "!pip -qqq install pip --progress-bar off\n",
        "!pip -qqq install langchain-groq==0.1.3 --progress-bar off\n",
        "!pip -qqq install langchain==0.1.17 --progress-bar off\n",
        "!pip -qqq install llama-parse==0.1.3 --progress-bar off\n",
        "!pip -qqq install qdrant-client==1.9.1  --progress-bar off\n",
        "!pip -qqq install \"unstructured[md]\"==0.13.6 --progress-bar off\n",
        "!pip -qqq install fastembed==0.2.7 --progress-bar off\n",
        "!pip -qqq install flashrank==0.2.4 --progress-bar off"
      ]
    },
    {
      "cell_type": "code",
      "source": [
        "import os\n",
        "import textwrap\n",
        "from pathlib import Path\n",
        "\n",
        "from google.colab import userdata\n",
        "from IPython.display import Markdown\n",
        "from langchain.chains import RetrievalQA\n",
        "from langchain.prompts import PromptTemplate\n",
        "from langchain.retrievers import ContextualCompressionRetriever\n",
        "from langchain.retrievers.document_compressors import FlashrankRerank\n",
        "from langchain.text_splitter import RecursiveCharacterTextSplitter\n",
        "from langchain.vectorstores import Qdrant\n",
        "from langchain_community.document_loaders import UnstructuredMarkdownLoader\n",
        "from langchain_community.embeddings.fastembed import FastEmbedEmbeddings\n",
        "from langchain_core.prompts import ChatPromptTemplate\n",
        "from langchain_groq import ChatGroq\n",
        "from llama_parse import LlamaParse\n",
        "\n",
        "os.environ[\"GROQ_API_KEY\"] = userdata.get(\"GROQ_API_KEY\")\n",
        "\n",
        "\n",
        "def print_response(response):\n",
        "    response_txt = response[\"result\"]\n",
        "    for chunk in response_txt.split(\"\\n\"):\n",
        "        if not chunk:\n",
        "            print()\n",
        "            continue\n",
        "        print(\"\\n\".join(textwrap.wrap(chunk, 100, break_long_words=False)))"
      ],
      "metadata": {
        "id": "sGQBnflBP2JO"
      },
      "execution_count": 3,
      "outputs": []
    },
    {
      "cell_type": "code",
      "source": [
        "!mkdir data\n",
        "!gdown 1YKdA3kBst4sv5ZNot2-08Nj1rO5jnQc3 -O \"./book2.pdf\""
      ],
      "metadata": {
        "colab": {
          "base_uri": "https://localhost:8080/"
        },
        "id": "3AqTu6nBRq2l",
        "outputId": "eb7fdedd-27ce-449b-f691-7260dcda36f5"
      },
      "execution_count": 15,
      "outputs": [
        {
          "output_type": "stream",
          "name": "stdout",
          "text": [
            "mkdir: cannot create directory ‘data’: File exists\n",
            "Downloading...\n",
            "From: https://drive.google.com/uc?id=1YKdA3kBst4sv5ZNot2-08Nj1rO5jnQc3\n",
            "To: /content/book2.pdf\n",
            "100% 2.84M/2.84M [00:00<00:00, 136MB/s]\n"
          ]
        }
      ]
    },
    {
      "cell_type": "code",
      "source": [
        "instruction = \"\"\"The provided document is Iverse a company in Rwanda.\n",
        "The data in there provides everythign about the company and all the details you need to know about the company profile and what the company does\n",
        "Try to be precise while answering the questions\"\"\"\n",
        "\n",
        "parser = LlamaParse(\n",
        "    api_key=userdata.get(\"LLAMA_PARSE\"),\n",
        "    result_type=\"markdown\",\n",
        "    parsing_instruction=instruction,\n",
        "    max_timeout=5000,\n",
        ")\n",
        "\n",
        "llama_parse_documents = await parser.aload_data(\"./book2.pdf\")"
      ],
      "metadata": {
        "colab": {
          "base_uri": "https://localhost:8080/"
        },
        "id": "Lp6g2NScSnsq",
        "outputId": "f31077d3-7860-4855-9998-963a1c3a6c30"
      },
      "execution_count": 16,
      "outputs": [
        {
          "output_type": "stream",
          "name": "stdout",
          "text": [
            "Started parsing the file under job_id d6b78b56-b2c6-4ec4-b615-41380a3ef43e\n"
          ]
        }
      ]
    },
    {
      "cell_type": "code",
      "source": [
        "parsed_doc = llama_parse_documents[0]"
      ],
      "metadata": {
        "id": "HBZRnoaCTExQ"
      },
      "execution_count": 17,
      "outputs": []
    },
    {
      "cell_type": "code",
      "source": [
        "Markdown(parsed_doc.text[:])"
      ],
      "metadata": {
        "colab": {
          "base_uri": "https://localhost:8080/",
          "height": 1000
        },
        "id": "lIqer0bITwRh",
        "outputId": "3f787e58-82eb-41f6-8106-75c8e912adcc"
      },
      "execution_count": 18,
      "outputs": [
        {
          "output_type": "execute_result",
          "data": {
            "text/plain": [
              "<IPython.core.display.Markdown object>"
            ],
            "text/markdown": "# A Comprehensive Guide to Using Google Maps in Flutter | by Samra Khan | Medium\n\nGet unlimited access to the best of Medium for less than $1/week. Become a member\n\nA Comprehensive Guide to Using Google Maps in Flutter\n\nSamra Khan · Follow\n\n5 min read · Sep 5, 2023\n\n15\nGoogle Map in Flutter\n\nhttps://medium.com/@samra.sajjad0001/a-comprehensive-guide-to-using-google-maps-in-flutter-3fbc0f7d469e\n---\n# A Comprehensive Guide to Using Google Maps in Flutter | by Samra Khan | Medium\n\nGoogle Maps integration is a crucial feature for many mobile apps, providing users with location-based services, navigation, and interactive maps. Flutter, a popular cross-platform framework, makes it easy to incorporate Google Maps into your app. In this comprehensive guide, we’ll cover all the aspects of using Google Maps in Flutter, complete with coding examples to help you get started.\n\n# Table of Contents\n\n1. Introduction to Google Maps in Flutter\n2. Setting Up pe Project\n3. Adding Dependencies\n4. Obtaining API Key\n5. Displaying a Map\n6. Adding Markers\n7. Handling User Location\n8. Polylines and Polygons\n9. Customizing Map UI\n10. Geocoding and Reverse Geocoding\n11. Adding Info Windows\n12. Map Gestures and Interactions\n13. Clustering Markers\n14. Street View\n15. Handling Permissions\n\nLink to the full article: https://medium.com/@samra.sajjad0001/a-comprehensive-guide-to-using-google-maps-in-flutter-3fbc0f7d469e\n---\n# Conclusion\n\n1. Introduction to Google Maps in Flutter\n\nGoogle Maps offers a versatile set of features for integrating maps into your Flutter app. These include displaying maps, adding markers and polygons, interacting with the map, and utilizing geolocation services.\n\n2. Setting Up the Project\n\nCreate a new Flutter project using your preferred development environment.\n\nflutter create google_maps_flutter_example\ncd google_maps_flutter_example\n\n3. Adding Dependencies\n\nIn your pubspec.yaml file, add the google_maps_flutter package:\n\ndependencies:\nflutter:\nsdk: flutter\ngoogle_maps_flutter: ^2.0.10 # Check for the latest version\n\nRun flutter pub get to install the package.\n\n4. Obtaining API Key\n---\nTo use Google Maps in your app, you need an API key. Follow the official documentation to obtain an API key: Get API Key.\n\n# Displaying a Map\n\nLet’s start by displaying a basic map on the screen.\n\nimport 'package:flutter/material.dart';\nimport 'package:google_maps_flutter/google_maps_flutter.dart';\n\nvoid main() => runApp(MyApp());\n\nclass MyApp extends StatelessWidget {\n@override\nWidget build(BuildContext context) {\nreturn MaterialApp(\nhome: MapScreen(),\n);\n}\n}\n\nclass MapScreen extends StatefulWidget {\n@override\n_MapScreenState createState() => _MapScreenState();\n}\n\nclass _MapScreenState extends State&lt;MapScreen&gt; {\n@override\nWidget build(BuildContext context) {\nreturn Scaffold(\nappBar: AppBar(title: Text('Google Maps in Flutter')),\nbody: GoogleMap(\ninitialCameraPosition: CameraPosition(\ntarget: LatLng(37.7749, -122.4194), // San Francisco coordinates\nzoom: 12,\n),\n),\n);\n}\n}\n\nLink to the article: A Comprehensive Guide to Using Google Maps in Flutter\n---\n# Adding Markers\n\nYou can add markers to the map to indicate specific points of interest.\n\nclass _MapScreenState extends State<MapScreen> {\nGoogleMapController? mapController;\nSet<Marker> markers = {};\nvoid _onMapCreated(GoogleMapController controller) {\nmapController = controller;\nsetState(() {\nmarkers.add(Marker(\nmarkerId: MarkerId('marker1'),\nposition: LatLng(37.7749, -122.4194),\ninfoWindow: InfoWindow(title: 'San Francisco'),\n));\n});\n}\n@override\nWidget build(BuildContext context) {\nreturn Scaffold(\nappBar: AppBar(title: Text('Google Maps in Flutter')),\nbody: GoogleMap(\nonMapCreated: _onMapCreated,\ninitialCameraPosition: CameraPosition(\ntarget: LatLng(37.7749, -122.4194),\nzoom: 12,\n),\nmarkers: markers,\n),\n);\n}\n}\n\n# Handling User Location\n\nYou can also display and track the user’s current location on the map.\n\nLink to the full article: A Comprehensive Guide to Using Google Maps in Flutter\n---\n3/6/24, 12:25 AM A Comprehensive Guide to Using Google Maps in Flutter | by Samra Khan | Medium\n\nimport 'package:location/location.dart'; // Import pe location package\nclass _MapScreenState extends State<MapScreen> { GoogleMapController? mapController; Location location = Location(); // Create a Location instance Set<Marker> markers = {};\nvoid _onMapCreated(GoogleMapController controller) async { mapController = controller; await _getUserLocation(); }\nFuture<void> _getUserLocation() async { final userLocation = await location.getLocation(); setState(() { markers.add(Marker( markerId: MarkerId('userLocation'), position: LatLng(userLocation.latitude!, userLocation.longitude!), infoWindow: InfoWindow(title: 'Your Location'), )); }); }\n@override Widget build(BuildContext context) { // ... }\n\n8. Polylines and Polygons You can draw polylines and polygons on the map to represent routes or areas.\n\nimport 'package:google_maps_flutter/google_maps_flutter.dart';\nclass _MapScreenState extends State<MapScreen> { // ... Set<Polyline> polylines = { Polyline(\n---\n3/6/24, 12:25 AM A Comprehensive Guide to Using Google Maps in Flutter | by Samra Khan | Medium\n\n|polylineId:|PolylineId('route1'),|\n|---|---|\n|points:|LatLng(37.7749, -122.4194), LatLng(37.8051, -122.4300), LatLng(37.8070, -122.4093),|\n|color:|Colors.blue,|\n|width:|4,|\n\n|Set<Polygon> polygons = {|\n|---|\n|Polygon(|\n|polygonId:|PolygonId('area1'),|\n|points:|LatLng(37.7749, -122.4194), LatLng(37.8051, -122.4300), LatLng(37.8070, -122.4093),|\n|fillColor:|Colors.green.withOpacity(0.3),|\n|strokeColor:|Colors.green,|\n|strokeWidth:|2,|\n\n@override Widget build(BuildContext context) { // ... }\n\nCustomizing Map UI You can customize the map’s appearance by adding various UI elements.\n\nclass _MapScreenState extends State<MapScreen> { // ... @override Widget build(BuildContext context) { return Scaffold( appBar: AppBar(title: Text('Google Maps in Flutter')), body: GoogleMap(\n\nhttps://medium.com/@samra.sajjad0001/a-comprehensive-guide-to-using-google-maps-in-flutter-3fbc0f7d469e 7/17\n---\n3/6/24, 12:25 AM A Comprehensive Guide to Using Google Maps in Flutter | by Samra Khan | Medium\n\n// ... mapType: MapType.normal, // Change to other map types myLocationButtonEnabled: true, myLocationEnabled: true, compassEnabled: true, ), ); } }\n\n# 10. Geocoding and Reverse Geocoding\n\nGeocoding is the process of converting an address to geographic coordinates, while reverse geocoding does the opposite.\n\nimport 'package:geocoding/geocoding.dart';\n\nclass _MapScreenState extends State<MapScreen> { // ... Future<void> _performGeocoding() async { List<Location> locations = await location.fromAddress('1600 Amphitheatre Par if (locations.isNotEmpty) { print('Latitude: ${locations.first.latitude}, Longitude: ${locations.first } } }\n\nFuture<void> _performReverseGeocoding() async { List<Placemark> placemarks = await location.placemarkFromCoordinates(37.7749 if (placemarks.isNotEmpty) { print('Address: ${placemarks.first.street}, ${placemarks.first.locality}, } }\n\n@override Widget build(BuildContext context) { // ... }\n\nhttps://medium.com/@samra.sajjad0001/a-comprehensive-guide-to-using-google-maps-in-flutter-3fbc0f7d469e 8/17\n---\n# Adding Info Windows\n\nInfo windows provide additional information when a user taps on a marker.\n\nclass _MapScreenState extends State<MapScreen> {\n// ...\n\nvoid _onMarkerTapped(MarkerId markerId) {\n// Handle marker tap event\n}\n\n@override\nWidget build(BuildContext context) {\nreturn Scaffold(\nappBar: AppBar(title: Text('Google Maps in Flutter')),\nbody: GoogleMap(\n// ...\nmarkers: markers,\nonTap: (LatLng latLng) {\n// Hide info window when tapping on pe map\nsetState(() {\nmarkers.forEach((marker) {\nmarkers.remove(marker.copyWip(infoWindowParam: InfoWindow.noText)\n});\n});\n},\nonMarkerTapped: _onMarkerTapped,\n),\n);\n}\n}\n\n# Map Gestures and Interactions\n\nYou can enable various map gestures to enhance user interaction.\n\nclass _MapScreenState extends State<MapScreen> {\n// ...\n---\n3/6/24, 12:25 AM A Comprehensive Guide to Using Google Maps in Flutter | by Samra Khan | Medium\n\n@override Widget build(BuildContext context) { return Scaffold( appBar: AppBar(title: Text('Google Maps in Flutter')), body: GoogleMap( // ... zoomGesturesEnabled: true, tiltGesturesEnabled: true, rotateGesturesEnabled: true, scrollGesturesEnabled: true, ), ); }\n\n13. Clustering Markers When dealing with a large number of markers, clustering helps to improve performance and readability.\n\nimport 'package:google_maps_cluster_manager/google_maps_cluster_manager.dart';\n\nclass _MapScreenState extends State<MapScreen> { ClusterManager<YourMarkerModel> clusterManager; void _initClusterManager() { clusterManager = ClusterManager<YourMarkerModel>( markers: markers.map((marker) { return YourMarkerModel( id: marker.markerId, position: marker.position, // Other properties... ); }).toList(), // Other configuration... ); } @override void initState() { Open in app\n\nhttps://medium.com/@samra.sajjad0001/a-comprehensive-guide-to-using-google-maps-in-flutter-3fbc0f7d469e 10/17\n---\n3/6/24, 12:25 AM A Comprehensive Guide to Using Google Maps in Flutter | by Samra Khan | Medium\n\nsuper.initState();Search Write _initClusterManager(); }\n\n@override Widget build(BuildContext context) { return Scaffold( appBar: AppBar(title: Text('Google Maps in Flutter')), body: GoogleMap( // ... markers: Set<Marker>.of(clusterManager.markers.values), ), ); }\n\n14. Street View You can also display Street View imagery in your Flutter app.\n\nimport 'package:google_maps_flutter_platform_interface/google_maps_flutter_platf\n\nclass _MapScreenState extends State<MapScreen> { // ... StreetViewController? streetViewController; void _onStreetViewCreated(StreetViewController controller) { streetViewController = controller; streetViewController!.setPosition(LatLng(37.7749, -122.4194)); }\n\n@override Widget build(BuildContext context) { return Scaffold( appBar: AppBar(title: Text('Google Maps in Flutter')), body: GoogleMap( // ... onStreetViewCreated: _onStreetViewCreated, ), );\n\nhttps://medium.com/@samra.sajjad0001/a-comprehensive-guide-to-using-google-maps-in-flutter-3fbc0f7d469e 11/17\n---\n3/6/24, 12:25 AM A Comprehensive Guide to Using Google Maps in Flutter | by Samra Khan | Medium\n\nHandling Permissions\nRemember to handle location permissions properly to ensure a smoop user experience.\nclass _MapScreenState extends State<MapScreen> {\n// ...\nFuture<void> _requestLocationPermission() async {\nfinal status = await location.requestPermission();\nif (status == PermissionStatus.granted) {\n// Permission granted, proceed wip using location\n} else {\n// Permission denied, handle accordingly\n}\n}\n@override\nWidget build(BuildContext context) {\n// ...\n}\nConclusion\nIn pis guide, we’ve covered a wide range of aspects related to integrating Google Maps into a Flutter app. From displaying a simple map to adding markers, customizing pe UI, and incorporating advanced features like geocoding and clustering, you now have pe knowledge to create powerful and interactive map experiences for your users. Experiment wip pese concepts, explore pe official documentation, and create stunning map-based apps using pe capabilities of Google Maps and Flutter. Happy coding!\nLink to pe article\n---\n3/6/24, 12:25 AM A Comprehensive Guide to Using Google Maps in Flutter | by Samra Khan | Medium Buxrme@collee\n\nGoogle Maps\nFlutter Maps\nLocation\nPolylines And Polygons\nGeocoding\nWritten by Samra Khan\n\n2.5K Followers\n\nFlutter | Android | IOS | MacOS | Web | Windows | Firebase\n\nMore from Samra Khan\n\nhttps://medium.com/@samra.sajjad0001/a-comprehensive-guide-to-using-google-maps-in-flutter-3fbc0f7d469e 13/17\n---\n# Web\n\n|Devices|Controllers|\n|---|---|\n| |Use Cases|\n\n# Entities\n\nExternal\n\nSamra Khan\n\nFlutter — Clean Architecture\n\nClean Architecture is a software design principle that promotes the separation of...\n\n5 min read · Jun 21, 2023\n\n313\n\nReal-time Data Management in Flutter with Firebase Database\n\nFirebase Realtime Database is a cloud-hosted NoSQL database offered by Google as part of...\n\n10 min read · Jul 18, 2023\n\n27\n\nExploring Firebase Cloud Messaging (FCM) in Flutter\n\nFlutter is a powerful framework for building cross-platform mobile applications. When it...\n\n5 min read · Jul 20, 2023\n\n75\n\nUnleashing Creativity: Exploring Architecture Patterns in Flutter\n\nFlutter, Google’s open-source UI framework, has gained immense popularity among...\n\n5 min read · Jul 12, 2023\n\n107\n\nA Comprehensive Guide to Using Google Maps in Flutter | by Samra Khan | Medium\n\nCRUD Operations with the Firebase Realtime Database in Flutter\n\nEnterprise Application Duties: Rules\n\nIntroduce Adapters Frameworks Drivers\n\nSamra Khan\n\nhttps://medium.com/@samra.sajjad0001/a-comprehensive-guide-to-using-google-maps-in-flutter-3fbc0f7d469e\n\n14/17\n---\n3/6/24, 12:25 AM\n\nA Comprehensive Guide to Using Google Maps in Flutter | by Samra Khan | Medium\n\nSee all from Samra Khan\n\nRecommended from Medium\n\n|Impena|GINZA|Tokyo|HARUMI|\n|---|---|---|---|\n|Tower|0 E|SHIBAURA|\n|Emre Kabali|Samra Khan| |\n\nFlutter Free Map — Use Flutter Free Map\n\nFlutter Free Map — Use Flutter Free Map\n\nReal-Time Location on Map in Flutter: A Comprehensive Guide…\n\nIn today’s digital age, real-time location tracking has become a crucial feature in many...\n\n2 min read · Sep 22, 2023\n\n5 min read · Sep 11, 2023\n\n12\n1\n91\n1\nLists\n\nStaff Picks\n\n595 stories · 794 saves\n\nStories to Help You Level-Up at Work\n\n19 stories · 505 saves\n\nhttps://medium.com/@samra.sajjad0001/a-comprehensive-guide-to-using-google-maps-in-flutter-3fbc0f7d469e 15/17\n---\n# Self-Improvement 101\n\n|20 stories|1442 saves|\n|---|---|\n|Eternity (Isaac Adariku)|A Complete Guide to Flutter Remote Logging with Building High-Quality Production Flutter Apps by Isaac Adariku 11 min read · Feb 14, 2024|\n|185|Henry Ifebunandu|\n|Cloud Firestore DB structure for your chat application. Craft a Scalable, High-Performance Chat App with Firestore. 15 min read · Jan 19, 2024|2|\n\n# Productivity 101\n\n|20 stories|1329 saves|\n|---|---|\n|Hamber|Flutter Game Development The Flame Engine sits on top of the Flutter framework, allowing the use of a single code… 25 min read · Oct 6, 2023|\n|63|Bernardo Iribarne in Nerd For Tech|\n|Logger for Flutter: how to log your messages in Flutter A simple package to log your message with low effort 4 min read · Feb 26, 2024| |\n---\n3/6/24, 12:25 AM                                           A Comprehensive Guide to Using Google Maps in Flutter | by Samra Khan | Medium\n\n11            1                                                                          68\n\nSee more recommendations\n\nhttps://medium.com/@samra.sajjad0001/a-comprehensive-guide-to-using-google-maps-in-flutter-3fbc0f7d469e                                    17/17"
          },
          "metadata": {},
          "execution_count": 18
        }
      ]
    },
    {
      "cell_type": "code",
      "source": [
        "document_path = Path(\"data/parsed_document.md\")\n",
        "with document_path.open(\"a\") as f:\n",
        "    f.write(parsed_doc.text)"
      ],
      "metadata": {
        "id": "UKOxzjvDTztM"
      },
      "execution_count": 19,
      "outputs": []
    },
    {
      "cell_type": "code",
      "source": [
        "\n",
        "\n",
        "loader = UnstructuredMarkdownLoader(document_path)\n",
        "loaded_documents = loader.load()\n",
        "\n"
      ],
      "metadata": {
        "colab": {
          "base_uri": "https://localhost:8080/"
        },
        "id": "Yq7GC9piT82h",
        "outputId": "49566e7b-9619-4873-ec6d-13f95bca2d9a"
      },
      "execution_count": 20,
      "outputs": [
        {
          "output_type": "stream",
          "name": "stderr",
          "text": [
            "[nltk_data] Downloading package averaged_perceptron_tagger to\n",
            "[nltk_data]     /root/nltk_data...\n",
            "[nltk_data]   Unzipping taggers/averaged_perceptron_tagger.zip.\n"
          ]
        }
      ]
    },
    {
      "cell_type": "code",
      "source": [
        "\n",
        "text_splitter = RecursiveCharacterTextSplitter(chunk_size=2048, chunk_overlap=128)\n",
        "docs = text_splitter.split_documents(loaded_documents)\n",
        "len(docs)"
      ],
      "metadata": {
        "colab": {
          "base_uri": "https://localhost:8080/"
        },
        "id": "xUXTd7zuT_f1",
        "outputId": "605d8da0-1c8e-4e3e-adc0-aaaf6e79c5ed"
      },
      "execution_count": 21,
      "outputs": [
        {
          "output_type": "execute_result",
          "data": {
            "text/plain": [
              "8"
            ]
          },
          "metadata": {},
          "execution_count": 21
        }
      ]
    },
    {
      "cell_type": "code",
      "source": [
        "print(docs[0].page_content)"
      ],
      "metadata": {
        "colab": {
          "base_uri": "https://localhost:8080/"
        },
        "id": "4plMJDObWBkq",
        "outputId": "ee5c779d-810d-484f-84e8-c621a40c1b89"
      },
      "execution_count": 22,
      "outputs": [
        {
          "output_type": "stream",
          "name": "stdout",
          "text": [
            "A Comprehensive Guide to Using Google Maps in Flutter | by Samra Khan | Medium\n",
            "\n",
            "Get unlimited access to the best of Medium for less than $1/week. Become a member\n",
            "\n",
            "A Comprehensive Guide to Using Google Maps in Flutter\n",
            "\n",
            "Samra Khan · Follow\n",
            "\n",
            "5 min read · Sep 5, 2023\n",
            "\n",
            "15\n",
            "Google Map in Flutter\n",
            "\n",
            "https://medium.com/@samra.sajjad0001/a-comprehensive-guide-to-using-google-maps-in-flutter-3fbc0f7d469e\n",
            "\n",
            "A Comprehensive Guide to Using Google Maps in Flutter | by Samra Khan | Medium\n",
            "\n",
            "Google Maps integration is a crucial feature for many mobile apps, providing users with location-based services, navigation, and interactive maps. Flutter, a popular cross-platform framework, makes it easy to incorporate Google Maps into your app. In this comprehensive guide, we’ll cover all the aspects of using Google Maps in Flutter, complete with coding examples to help you get started.\n",
            "\n",
            "Table of Contents\n",
            "\n",
            "Introduction to Google Maps in Flutter\n",
            "\n",
            "Setting Up pe Project\n",
            "\n",
            "Adding Dependencies\n",
            "\n",
            "Obtaining API Key\n",
            "\n",
            "Displaying a Map\n",
            "\n",
            "Adding Markers\n",
            "\n",
            "Handling User Location\n",
            "\n",
            "Polylines and Polygons\n",
            "\n",
            "Customizing Map UI\n",
            "\n",
            "Geocoding and Reverse Geocoding\n",
            "\n",
            "Adding Info Windows\n",
            "\n",
            "Map Gestures and Interactions\n",
            "\n",
            "Clustering Markers\n",
            "\n",
            "Street View\n",
            "\n",
            "Handling Permissions\n",
            "\n",
            "Link to the full article: https://medium.com/@samra.sajjad0001/a-comprehensive-guide-to-using-google-maps-in-flutter-3fbc0f7d469e\n",
            "\n",
            "Conclusion\n",
            "\n",
            "Introduction to Google Maps in Flutter\n",
            "\n",
            "Google Maps offers a versatile set of features for integrating maps into your Flutter app. These include displaying maps, adding markers and polygons, interacting with the map, and utilizing geolocation services.\n",
            "\n",
            "Setting Up the Project\n",
            "\n",
            "Create a new Flutter project using your preferred development environment.\n",
            "\n",
            "flutter create google_maps_flutter_example\n",
            "cd google_maps_flutter_example\n",
            "\n",
            "Adding Dependencies\n",
            "\n",
            "In your pubspec.yaml file, add the google_maps_flutter package:\n",
            "\n",
            "dependencies:\n",
            "flutter:\n",
            "sdk: flutter\n",
            "google_maps_flutter: ^2.0.10 # Check for the latest version\n",
            "\n",
            "Run flutter pub get to install the package.\n"
          ]
        }
      ]
    },
    {
      "cell_type": "code",
      "source": [
        "embeddings = FastEmbedEmbeddings(model_name=\"BAAI/bge-base-en-v1.5\")"
      ],
      "metadata": {
        "colab": {
          "base_uri": "https://localhost:8080/",
          "height": 333,
          "referenced_widgets": [
            "a1548e5e64c74eee8fc4ecb92b73793d",
            "5fc68d27b0c04ec5a69d750bd7cd01d0",
            "cb218d09deb94c14b5c1f916303ab0bd",
            "b046ab6a44ca4fa19d24499c66917488",
            "9df106530ebb4e1eb87383fa61d84431",
            "cd526cdb4ef3487f8d7cf2dc20981f5f",
            "ed6764be98674577a3f51c7944498979",
            "836a0d52e58b4ae3a7c331ec1114ba1c",
            "10cac139154541b6896fed0646c47baa",
            "49f33ad419b14470ae81c6d81c22c82d",
            "08c5414ef70c4d9bb353296cf333815c",
            "52aa0bcf1b1b43659871f66200aa0124",
            "5a05500e298b407aadc025af7dee8c19",
            "69bc8efd478e470e87cc0741300ea54c",
            "fa21c21d6bdc4e879945dd279483a39b",
            "063a1416f460412cb0404f10277dc583",
            "c48832a6f0e34415bc28863216328699",
            "9d27c896952c434ab470152212253b19",
            "a2efc593464d48aaa72f4b1aacc5a61a",
            "a6fb78cabd4c4f169f278927f26fc820",
            "03ddbdaebea44cf999f196e60208897e",
            "cc03070cd140477aad389953f40181f4",
            "e6d2a6b9d4ce46ff992af683922fa931",
            "67d796fcf8414b0db6365de7885739c4",
            "46381a91e12e47c7b991fddb88225bdc",
            "5f917089d0aa492b83343a92aeae7980",
            "71b7eb78ffc74cc4a1268020dcad771e",
            "4d1bd1a14c1049589a8e4485960de7f2",
            "c15b6ecf2f154b94992edc9efaeac024",
            "6da39143ac1c40ae958d69101da08fc3",
            "544ce8423a8f47b1a5122165e74d1090",
            "7fed6655eff24d5c97ee39eb57d8c0f6",
            "10c477222c824f56b57936271bec8f8b",
            "b95e413ed1334429bf5d4f5d8af2c144",
            "13e5851f21234c48aa2313f8c4a7c457",
            "635d1f430281416785f00c57e8ee0418",
            "75d7a60ee83b4b67b0ca8d9f0fb29971",
            "5e74f4903a304f51a730b76902e3769f",
            "76b425e48f2e4a67b1fe4bb52e1c1089",
            "51ee90ebfccb4a968cf91d3260cdba06",
            "4132f6c079934bddb11ad2ac6770cbe9",
            "e77e54cccb7a4eee8504b29b79d0c553",
            "bc0adb056b2843218942c5cbbeab3f91",
            "d85d4af30c2243f1ab6d333756eb179e",
            "7bb753a53def4ace880961839634655e",
            "a3c6c1d7481040768f0f0bf944e614ee",
            "30b1a6c70de54bc68e08e425f3b4c01b",
            "f74fde3d164044119c78fd222cb64d72",
            "1b524b93a8bb4bcbb8920aa1b2950a6c",
            "612b19a6ede047c0bfcbd0d4446970b1",
            "864e1ae8786146edaa8c163f0dc84a22",
            "9f4d0b7c61734ff3b38e0f32bc8f4ef1",
            "c47fcbeee94543aaa6153d03e9d17d47",
            "0cb6177f5ef34f149bcac222d1a79931",
            "bcfb9c5305d54a2f8fcfa037dde68f65",
            "0e4f50c5752d4a73aa04f1cb05ff1b68",
            "ac2476c5cc5848ee9f0e0facd24480d0",
            "e95370c2fb2e492f96af4f147f3a37d4",
            "58d0a86e94694e20b9a04006f2567234",
            "ec65468eeebd4bdeb238a24b1e2926d7",
            "038f8cafac7f454096cac92db39cabf3",
            "58bd4f40fc254b599fb962995bdc857f",
            "6fb707b0b024428bb749ee822530cebe",
            "cb56591a92884ad6b9757045a9c366f3",
            "50e53497a9c747c88a6adf54781ab425",
            "26b0c984575449958305b3e725afeea2"
          ]
        },
        "id": "vfn_UTwmUB8P",
        "outputId": "313c2ca2-7be9-435e-c544-bcce789a11ad"
      },
      "execution_count": 23,
      "outputs": [
        {
          "output_type": "stream",
          "name": "stderr",
          "text": [
            "/usr/local/lib/python3.10/dist-packages/huggingface_hub/utils/_token.py:88: UserWarning: \n",
            "The secret `HF_TOKEN` does not exist in your Colab secrets.\n",
            "To authenticate with the Hugging Face Hub, create a token in your settings tab (https://huggingface.co/settings/tokens), set it as secret in your Google Colab and restart your session.\n",
            "You will be able to reuse this secret in all of your notebooks.\n",
            "Please note that authentication is recommended but still optional to access public models or datasets.\n",
            "  warnings.warn(\n"
          ]
        },
        {
          "output_type": "display_data",
          "data": {
            "text/plain": [
              "Fetching 5 files:   0%|          | 0/5 [00:00<?, ?it/s]"
            ],
            "application/vnd.jupyter.widget-view+json": {
              "version_major": 2,
              "version_minor": 0,
              "model_id": "a1548e5e64c74eee8fc4ecb92b73793d"
            }
          },
          "metadata": {}
        },
        {
          "output_type": "display_data",
          "data": {
            "text/plain": [
              "config.json:   0%|          | 0.00/740 [00:00<?, ?B/s]"
            ],
            "application/vnd.jupyter.widget-view+json": {
              "version_major": 2,
              "version_minor": 0,
              "model_id": "52aa0bcf1b1b43659871f66200aa0124"
            }
          },
          "metadata": {}
        },
        {
          "output_type": "display_data",
          "data": {
            "text/plain": [
              "special_tokens_map.json:   0%|          | 0.00/695 [00:00<?, ?B/s]"
            ],
            "application/vnd.jupyter.widget-view+json": {
              "version_major": 2,
              "version_minor": 0,
              "model_id": "e6d2a6b9d4ce46ff992af683922fa931"
            }
          },
          "metadata": {}
        },
        {
          "output_type": "display_data",
          "data": {
            "text/plain": [
              "tokenizer_config.json:   0%|          | 0.00/1.24k [00:00<?, ?B/s]"
            ],
            "application/vnd.jupyter.widget-view+json": {
              "version_major": 2,
              "version_minor": 0,
              "model_id": "b95e413ed1334429bf5d4f5d8af2c144"
            }
          },
          "metadata": {}
        },
        {
          "output_type": "display_data",
          "data": {
            "text/plain": [
              "tokenizer.json:   0%|          | 0.00/711k [00:00<?, ?B/s]"
            ],
            "application/vnd.jupyter.widget-view+json": {
              "version_major": 2,
              "version_minor": 0,
              "model_id": "7bb753a53def4ace880961839634655e"
            }
          },
          "metadata": {}
        },
        {
          "output_type": "display_data",
          "data": {
            "text/plain": [
              "model_optimized.onnx:   0%|          | 0.00/218M [00:00<?, ?B/s]"
            ],
            "application/vnd.jupyter.widget-view+json": {
              "version_major": 2,
              "version_minor": 0,
              "model_id": "0e4f50c5752d4a73aa04f1cb05ff1b68"
            }
          },
          "metadata": {}
        }
      ]
    },
    {
      "cell_type": "code",
      "source": [
        "qdrant = Qdrant.from_documents(\n",
        "    docs,\n",
        "    embeddings,\n",
        "    # location=\":memory:\",\n",
        "    path=\"./db\",\n",
        "    collection_name=\"document_embeddings\",\n",
        ")\n",
        ""
      ],
      "metadata": {
        "id": "erismKd6WJck"
      },
      "execution_count": 24,
      "outputs": []
    },
    {
      "cell_type": "code",
      "source": [
        "\n",
        "%%time\n",
        "query = \"What is Futter?\"\n",
        "similar_docs = qdrant.similarity_search_with_score(query)"
      ],
      "metadata": {
        "colab": {
          "base_uri": "https://localhost:8080/"
        },
        "id": "XAvFKM0UWLcV",
        "outputId": "2f3ffebd-f742-4f36-b084-7e2b86c7aa51"
      },
      "execution_count": 25,
      "outputs": [
        {
          "output_type": "stream",
          "name": "stdout",
          "text": [
            "CPU times: user 348 ms, sys: 0 ns, total: 348 ms\n",
            "Wall time: 516 ms\n"
          ]
        }
      ]
    },
    {
      "cell_type": "code",
      "source": [
        "\n",
        "for doc, score in similar_docs:\n",
        "    print(f\"text: {doc.page_content[:256]}\\n\")\n",
        "    print(f\"score: {score}\")\n",
        "    print(\"-\" * 80)\n",
        "    print()"
      ],
      "metadata": {
        "colab": {
          "base_uri": "https://localhost:8080/"
        },
        "id": "I4crH76UWXM4",
        "outputId": "f37174aa-a307-4053-c991-1913ed22e1d3"
      },
      "execution_count": 26,
      "outputs": [
        {
          "output_type": "stream",
          "name": "stdout",
          "text": [
            "text: Productivity 101\n",
            "\n",
            "20 stories 1329 saves Hamber Flutter Game Development The Flame Engine sits on top of the Flutter framework, allowing the use of a single code… 25 min read · Oct 6, 2023 63 Bernardo Iribarne in Nerd For Tech Logger for Flutter: how to log\n",
            "\n",
            "score: 0.4724764740326488\n",
            "--------------------------------------------------------------------------------\n",
            "\n",
            "text: Clustering Markers When dealing with a large number of markers, clustering helps to improve performance and readability.\n",
            "\n",
            "import 'package:google_maps_cluster_manager/google_maps_cluster_manager.dart';\n",
            "\n",
            "class _MapScreenState extends State { ClusterManager c\n",
            "\n",
            "score: 0.4625203873532128\n",
            "--------------------------------------------------------------------------------\n",
            "\n",
            "text: 10. Geocoding and Reverse Geocoding\n",
            "\n",
            "Geocoding is the process of converting an address to geographic coordinates, while reverse geocoding does the opposite.\n",
            "\n",
            "import 'package:geocoding/geocoding.dart';\n",
            "\n",
            "class _MapScreenState extends State { // ... Future _p\n",
            "\n",
            "score: 0.44481649697757353\n",
            "--------------------------------------------------------------------------------\n",
            "\n",
            "text: 3/6/24, 12:25 AM A Comprehensive Guide to Using Google Maps in Flutter | by Samra Khan | Medium\n",
            "\n",
            "Handling Permissions\n",
            "Remember to handle location permissions properly to ensure a smoop user experience.\n",
            "class _MapScreenState extends State {\n",
            "// ...\n",
            "Future _r\n",
            "\n",
            "score: 0.4430483630373256\n",
            "--------------------------------------------------------------------------------\n",
            "\n"
          ]
        }
      ]
    },
    {
      "cell_type": "code",
      "source": [
        "%%time\n",
        "retriever = qdrant.as_retriever(search_kwargs={\"k\": 5})\n",
        "retrieved_docs = retriever.invoke(query)"
      ],
      "metadata": {
        "colab": {
          "base_uri": "https://localhost:8080/"
        },
        "id": "gSXkH_m2Waon",
        "outputId": "c528641f-f77b-43b3-f0cb-666f7d99be07"
      },
      "execution_count": 27,
      "outputs": [
        {
          "output_type": "stream",
          "name": "stdout",
          "text": [
            "CPU times: user 351 ms, sys: 167 ms, total: 518 ms\n",
            "Wall time: 605 ms\n"
          ]
        }
      ]
    },
    {
      "cell_type": "code",
      "source": [
        "for doc in retrieved_docs:\n",
        "    print(f\"id: {doc.metadata['_id']}\\n\")\n",
        "    print(f\"text: {doc.page_content[:256]}\\n\")\n",
        "    print(\"-\" * 80)\n",
        "    print()\n",
        ""
      ],
      "metadata": {
        "colab": {
          "base_uri": "https://localhost:8080/"
        },
        "id": "v-Yzz3ZyWgHf",
        "outputId": "d7e2cb67-ac13-4b15-9cf6-a9b9dc1afc99"
      },
      "execution_count": 28,
      "outputs": [
        {
          "output_type": "stream",
          "name": "stdout",
          "text": [
            "id: ff08538e64de47d1a4a12dcf8fc9599e\n",
            "\n",
            "text: Productivity 101\n",
            "\n",
            "20 stories 1329 saves Hamber Flutter Game Development The Flame Engine sits on top of the Flutter framework, allowing the use of a single code… 25 min read · Oct 6, 2023 63 Bernardo Iribarne in Nerd For Tech Logger for Flutter: how to log\n",
            "\n",
            "--------------------------------------------------------------------------------\n",
            "\n",
            "id: 66b1b8cd16b441ec86a3c8849ba7943b\n",
            "\n",
            "text: Clustering Markers When dealing with a large number of markers, clustering helps to improve performance and readability.\n",
            "\n",
            "import 'package:google_maps_cluster_manager/google_maps_cluster_manager.dart';\n",
            "\n",
            "class _MapScreenState extends State { ClusterManager c\n",
            "\n",
            "--------------------------------------------------------------------------------\n",
            "\n",
            "id: 0b856ccca1fe4467aa96cc78a9bea47a\n",
            "\n",
            "text: 10. Geocoding and Reverse Geocoding\n",
            "\n",
            "Geocoding is the process of converting an address to geographic coordinates, while reverse geocoding does the opposite.\n",
            "\n",
            "import 'package:geocoding/geocoding.dart';\n",
            "\n",
            "class _MapScreenState extends State { // ... Future _p\n",
            "\n",
            "--------------------------------------------------------------------------------\n",
            "\n",
            "id: 24a958d8741a451d8cd209b7cdb55c85\n",
            "\n",
            "text: 3/6/24, 12:25 AM A Comprehensive Guide to Using Google Maps in Flutter | by Samra Khan | Medium\n",
            "\n",
            "Handling Permissions\n",
            "Remember to handle location permissions properly to ensure a smoop user experience.\n",
            "class _MapScreenState extends State {\n",
            "// ...\n",
            "Future _r\n",
            "\n",
            "--------------------------------------------------------------------------------\n",
            "\n",
            "id: a4dd160778904cbfa6d1eee4948cf295\n",
            "\n",
            "text: 3/6/24, 12:25 AM A Comprehensive Guide to Using Google Maps in Flutter | by Samra Khan | Medium\n",
            "\n",
            "import 'package:location/location.dart'; // Import pe location package\n",
            "class _MapScreenState extends State { GoogleMapController? mapController; Location locat\n",
            "\n",
            "--------------------------------------------------------------------------------\n",
            "\n"
          ]
        }
      ]
    },
    {
      "cell_type": "code",
      "source": [
        "\n",
        "\n",
        "compressor = FlashrankRerank(model=\"ms-marco-MiniLM-L-12-v2\")\n",
        "compression_retriever = ContextualCompressionRetriever(\n",
        "    base_compressor=compressor, base_retriever=retriever\n",
        ")\n",
        "\n"
      ],
      "metadata": {
        "colab": {
          "base_uri": "https://localhost:8080/"
        },
        "id": "YBNuobb4WhVd",
        "outputId": "9a6477ef-80fa-4b57-9c3e-fee133cf9f5c"
      },
      "execution_count": 29,
      "outputs": [
        {
          "output_type": "stream",
          "name": "stdout",
          "text": [
            "Downloading ms-marco-MiniLM-L-12-v2...\n"
          ]
        },
        {
          "output_type": "stream",
          "name": "stderr",
          "text": [
            "ms-marco-MiniLM-L-12-v2.zip: 100%|██████████| 21.6M/21.6M [00:00<00:00, 52.1MiB/s]\n"
          ]
        }
      ]
    },
    {
      "cell_type": "code",
      "source": [
        "%%time\n",
        "reranked_docs = compression_retriever.invoke(query)\n",
        "len(reranked_docs)"
      ],
      "metadata": {
        "colab": {
          "base_uri": "https://localhost:8080/"
        },
        "id": "Q2A0fbdnWm0K",
        "outputId": "c6b41110-55f6-43d6-c046-45cfdb8d1f96"
      },
      "execution_count": 30,
      "outputs": [
        {
          "output_type": "stream",
          "name": "stdout",
          "text": [
            "Running pairwise ranking..\n",
            "CPU times: user 2.72 s, sys: 230 ms, total: 2.95 s\n",
            "Wall time: 3.14 s\n"
          ]
        },
        {
          "output_type": "execute_result",
          "data": {
            "text/plain": [
              "3"
            ]
          },
          "metadata": {},
          "execution_count": 30
        }
      ]
    },
    {
      "cell_type": "code",
      "source": [
        "for doc in reranked_docs:\n",
        "    print(f\"id: {doc.metadata['_id']}\\n\")\n",
        "    print(f\"text: {doc.page_content[:256]}\\n\")\n",
        "    print(f\"score: {doc.metadata['relevance_score']}\")\n",
        "    print(\"-\" * 80)\n",
        "    print()"
      ],
      "metadata": {
        "colab": {
          "base_uri": "https://localhost:8080/"
        },
        "id": "V16pAnOcWo8x",
        "outputId": "acc583bc-8dac-4e74-81a0-a6e788faec47"
      },
      "execution_count": 31,
      "outputs": [
        {
          "output_type": "stream",
          "name": "stdout",
          "text": [
            "id: 24a958d8741a451d8cd209b7cdb55c85\n",
            "\n",
            "text: 3/6/24, 12:25 AM A Comprehensive Guide to Using Google Maps in Flutter | by Samra Khan | Medium\n",
            "\n",
            "Handling Permissions\n",
            "Remember to handle location permissions properly to ensure a smoop user experience.\n",
            "class _MapScreenState extends State {\n",
            "// ...\n",
            "Future _r\n",
            "\n",
            "score: 8.470653119729832e-05\n",
            "--------------------------------------------------------------------------------\n",
            "\n",
            "id: 0b856ccca1fe4467aa96cc78a9bea47a\n",
            "\n",
            "text: 10. Geocoding and Reverse Geocoding\n",
            "\n",
            "Geocoding is the process of converting an address to geographic coordinates, while reverse geocoding does the opposite.\n",
            "\n",
            "import 'package:geocoding/geocoding.dart';\n",
            "\n",
            "class _MapScreenState extends State { // ... Future _p\n",
            "\n",
            "score: 7.208427268778905e-05\n",
            "--------------------------------------------------------------------------------\n",
            "\n",
            "id: a4dd160778904cbfa6d1eee4948cf295\n",
            "\n",
            "text: 3/6/24, 12:25 AM A Comprehensive Guide to Using Google Maps in Flutter | by Samra Khan | Medium\n",
            "\n",
            "import 'package:location/location.dart'; // Import pe location package\n",
            "class _MapScreenState extends State { GoogleMapController? mapController; Location locat\n",
            "\n",
            "score: 3.206365363439545e-05\n",
            "--------------------------------------------------------------------------------\n",
            "\n"
          ]
        }
      ]
    },
    {
      "cell_type": "markdown",
      "source": [
        "\n",
        "## Q&A Over Document\n"
      ],
      "metadata": {
        "id": "WuvBAn8OWtah"
      }
    },
    {
      "cell_type": "code",
      "source": [
        "llm = ChatGroq(temperature=0, model_name=\"llama3-70b-8192\")"
      ],
      "metadata": {
        "id": "-YpYv942W210"
      },
      "execution_count": 34,
      "outputs": []
    },
    {
      "cell_type": "code",
      "source": [
        "\n",
        "prompt_template = \"\"\"\n",
        "Use the following pieces of information to answer the user's question.\n",
        "If you don't know the answer, just say that you don't know, don't try to make up an answer.\n",
        "\n",
        "Context: {context}\n",
        "Question: {question}\n",
        "\n",
        "Answer the question and provide additional helpful information,\n",
        "based on the pieces of information, if applicable. Be succinct.\n",
        "\n",
        "Responses should be properly formatted to be easily read.\n",
        "\"\"\"\n",
        "\n",
        "prompt = PromptTemplate(\n",
        "    template=prompt_template, input_variables=[\"context\", \"question\"]\n",
        ")"
      ],
      "metadata": {
        "id": "dmQfW7WJWqcd"
      },
      "execution_count": 32,
      "outputs": []
    },
    {
      "cell_type": "code",
      "source": [
        "\n",
        "qa = RetrievalQA.from_chain_type(\n",
        "    llm=llm,\n",
        "    chain_type=\"stuff\",\n",
        "    retriever=compression_retriever,\n",
        "    return_source_documents=True,\n",
        "    chain_type_kwargs={\"prompt\": prompt, \"verbose\": True},\n",
        ")"
      ],
      "metadata": {
        "id": "mTTn9gUVWxRJ"
      },
      "execution_count": 35,
      "outputs": []
    },
    {
      "cell_type": "code",
      "source": [
        "%%time\n",
        "response = qa.invoke(\"What is Flutter used for ?\")"
      ],
      "metadata": {
        "colab": {
          "base_uri": "https://localhost:8080/"
        },
        "id": "eko58rFPWzKj",
        "outputId": "eee188e5-0585-419f-e556-eff37985d008"
      },
      "execution_count": 36,
      "outputs": [
        {
          "output_type": "stream",
          "name": "stdout",
          "text": [
            "Running pairwise ranking..\n",
            "\n",
            "\n",
            "\u001b[1m> Entering new StuffDocumentsChain chain...\u001b[0m\n",
            "\n",
            "\n",
            "\u001b[1m> Entering new LLMChain chain...\u001b[0m\n",
            "Prompt after formatting:\n",
            "\u001b[32;1m\u001b[1;3m\n",
            "Use the following pieces of information to answer the user's question.\n",
            "If you don't know the answer, just say that you don't know, don't try to make up an answer.\n",
            "\n",
            "Context: Flutter is a powerful framework for building cross-platform mobile applications. When it...\n",
            "\n",
            "5 min read · Jul 20, 2023\n",
            "\n",
            "75\n",
            "\n",
            "Unleashing Creativity: Exploring Architecture Patterns in Flutter\n",
            "\n",
            "Flutter, Google’s open-source UI framework, has gained immense popularity among...\n",
            "\n",
            "5 min read · Jul 12, 2023\n",
            "\n",
            "107\n",
            "\n",
            "A Comprehensive Guide to Using Google Maps in Flutter | by Samra Khan | Medium\n",
            "\n",
            "CRUD Operations with the Firebase Realtime Database in Flutter\n",
            "\n",
            "Enterprise Application Duties: Rules\n",
            "\n",
            "Introduce Adapters Frameworks Drivers\n",
            "\n",
            "Samra Khan\n",
            "\n",
            "https://medium.com/@samra.sajjad0001/a-comprehensive-guide-to-using-google-maps-in-flutter-3fbc0f7d469e\n",
            "\n",
            "14/17\n",
            "\n",
            "3/6/24, 12:25 AM\n",
            "\n",
            "A Comprehensive Guide to Using Google Maps in Flutter | by Samra Khan | Medium\n",
            "\n",
            "See all from Samra Khan\n",
            "\n",
            "Recommended from Medium\n",
            "\n",
            "Impena GINZA Tokyo HARUMI Tower 0 E SHIBAURA Emre Kabali Samra Khan\n",
            "\n",
            "Flutter Free Map — Use Flutter Free Map\n",
            "\n",
            "Flutter Free Map — Use Flutter Free Map\n",
            "\n",
            "Real-Time Location on Map in Flutter: A Comprehensive Guide…\n",
            "\n",
            "In today’s digital age, real-time location tracking has become a crucial feature in many...\n",
            "\n",
            "2 min read · Sep 22, 2023\n",
            "\n",
            "5 min read · Sep 11, 2023\n",
            "\n",
            "12\n",
            "1\n",
            "91\n",
            "1\n",
            "Lists\n",
            "\n",
            "Staff Picks\n",
            "\n",
            "595 stories · 794 saves\n",
            "\n",
            "Stories to Help You Level-Up at Work\n",
            "\n",
            "19 stories · 505 saves\n",
            "\n",
            "https://medium.com/@samra.sajjad0001/a-comprehensive-guide-to-using-google-maps-in-flutter-3fbc0f7d469e 15/17\n",
            "\n",
            "Self-Improvement 101\n",
            "\n",
            "20 stories 1442 saves Eternity (Isaac Adariku) A Complete Guide to Flutter Remote Logging with Building High-Quality Production Flutter Apps by Isaac Adariku 11 min read · Feb 14, 2024 185 Henry Ifebunandu Cloud Firestore DB structure for your chat application. Craft a Scalable, High-Performance Chat App with Firestore. 15 min read · Jan 19, 2024 2\n",
            "\n",
            "Productivity 101\n",
            "\n",
            "A Comprehensive Guide to Using Google Maps in Flutter | by Samra Khan | Medium\n",
            "\n",
            "Get unlimited access to the best of Medium for less than $1/week. Become a member\n",
            "\n",
            "A Comprehensive Guide to Using Google Maps in Flutter\n",
            "\n",
            "Samra Khan · Follow\n",
            "\n",
            "5 min read · Sep 5, 2023\n",
            "\n",
            "15\n",
            "Google Map in Flutter\n",
            "\n",
            "https://medium.com/@samra.sajjad0001/a-comprehensive-guide-to-using-google-maps-in-flutter-3fbc0f7d469e\n",
            "\n",
            "A Comprehensive Guide to Using Google Maps in Flutter | by Samra Khan | Medium\n",
            "\n",
            "Google Maps integration is a crucial feature for many mobile apps, providing users with location-based services, navigation, and interactive maps. Flutter, a popular cross-platform framework, makes it easy to incorporate Google Maps into your app. In this comprehensive guide, we’ll cover all the aspects of using Google Maps in Flutter, complete with coding examples to help you get started.\n",
            "\n",
            "Table of Contents\n",
            "\n",
            "Introduction to Google Maps in Flutter\n",
            "\n",
            "Setting Up pe Project\n",
            "\n",
            "Adding Dependencies\n",
            "\n",
            "Obtaining API Key\n",
            "\n",
            "Displaying a Map\n",
            "\n",
            "Adding Markers\n",
            "\n",
            "Handling User Location\n",
            "\n",
            "Polylines and Polygons\n",
            "\n",
            "Customizing Map UI\n",
            "\n",
            "Geocoding and Reverse Geocoding\n",
            "\n",
            "Adding Info Windows\n",
            "\n",
            "Map Gestures and Interactions\n",
            "\n",
            "Clustering Markers\n",
            "\n",
            "Street View\n",
            "\n",
            "Handling Permissions\n",
            "\n",
            "Link to the full article: https://medium.com/@samra.sajjad0001/a-comprehensive-guide-to-using-google-maps-in-flutter-3fbc0f7d469e\n",
            "\n",
            "Conclusion\n",
            "\n",
            "Introduction to Google Maps in Flutter\n",
            "\n",
            "Google Maps offers a versatile set of features for integrating maps into your Flutter app. These include displaying maps, adding markers and polygons, interacting with the map, and utilizing geolocation services.\n",
            "\n",
            "Setting Up the Project\n",
            "\n",
            "Create a new Flutter project using your preferred development environment.\n",
            "\n",
            "flutter create google_maps_flutter_example\n",
            "cd google_maps_flutter_example\n",
            "\n",
            "Adding Dependencies\n",
            "\n",
            "In your pubspec.yaml file, add the google_maps_flutter package:\n",
            "\n",
            "dependencies:\n",
            "flutter:\n",
            "sdk: flutter\n",
            "google_maps_flutter: ^2.0.10 # Check for the latest version\n",
            "\n",
            "Run flutter pub get to install the package.\n",
            "\n",
            "Productivity 101\n",
            "\n",
            "20 stories 1329 saves Hamber Flutter Game Development The Flame Engine sits on top of the Flutter framework, allowing the use of a single code… 25 min read · Oct 6, 2023 63 Bernardo Iribarne in Nerd For Tech Logger for Flutter: how to log your messages in Flutter A simple package to log your message with low effort 4 min read · Feb 26, 2024 --- 3/6/24, 12:25 AM                                           A Comprehensive Guide to Using Google Maps in Flutter by Samra Khan\n",
            "\n",
            "11            1                                                                          68\n",
            "\n",
            "See more recommendations\n",
            "\n",
            "https://medium.com/@samra.sajjad0001/a-comprehensive-guide-to-using-google-maps-in-flutter-3fbc0f7d469e                                    17/17\n",
            "Question: What is Flutter used for ?\n",
            "\n",
            "Answer the question and provide additional helpful information,\n",
            "based on the pieces of information, if applicable. Be succinct.\n",
            "\n",
            "Responses should be properly formatted to be easily read.\n",
            "\u001b[0m\n",
            "\n",
            "\u001b[1m> Finished chain.\u001b[0m\n",
            "\n",
            "\u001b[1m> Finished chain.\u001b[0m\n",
            "CPU times: user 2.6 s, sys: 211 ms, total: 2.81 s\n",
            "Wall time: 3.48 s\n"
          ]
        }
      ]
    },
    {
      "cell_type": "code",
      "source": [
        "print_response(response)"
      ],
      "metadata": {
        "colab": {
          "base_uri": "https://localhost:8080/"
        },
        "id": "Ssmdgov8W8zO",
        "outputId": "a06d4622-eb2e-4037-dd6e-56e9647bfb1b"
      },
      "execution_count": 37,
      "outputs": [
        {
          "output_type": "stream",
          "name": "stdout",
          "text": [
            "**Answer:** Flutter is used for building cross-platform mobile applications.\n",
            "\n",
            "**Additional helpful information:** Flutter is a powerful framework that allows developers to create\n",
            "mobile apps with a single codebase that can run on multiple platforms, including iOS and Android.\n",
            "It's also used for building enterprise applications and has gained immense popularity among\n",
            "developers.\n"
          ]
        }
      ]
    },
    {
      "cell_type": "code",
      "source": [
        "\n",
        "\n",
        "qa = RetrievalQA.from_chain_type(\n",
        "    llm=llm,\n",
        "    chain_type=\"stuff\",\n",
        "    retriever=compression_retriever,\n",
        "    return_source_documents=True,\n",
        "    chain_type_kwargs={\"prompt\": prompt, \"verbose\": False},\n",
        ")"
      ],
      "metadata": {
        "id": "9kBGyIDhXFYJ"
      },
      "execution_count": 38,
      "outputs": []
    },
    {
      "cell_type": "code",
      "source": [
        "%%time\n",
        "response = qa.invoke(\"What platforms does flutter run on ?\")"
      ],
      "metadata": {
        "colab": {
          "base_uri": "https://localhost:8080/"
        },
        "id": "gJ_-vdFkXPS-",
        "outputId": "0b1f86f2-025c-49c9-b605-b00a310c18d2"
      },
      "execution_count": 39,
      "outputs": [
        {
          "output_type": "stream",
          "name": "stdout",
          "text": [
            "Running pairwise ranking..\n",
            "CPU times: user 2.68 s, sys: 2.98 ms, total: 2.69 s\n",
            "Wall time: 3.64 s\n"
          ]
        }
      ]
    },
    {
      "cell_type": "code",
      "source": [
        "Markdown(response[\"result\"])"
      ],
      "metadata": {
        "colab": {
          "base_uri": "https://localhost:8080/",
          "height": 87
        },
        "id": "rROKllAjXTvJ",
        "outputId": "b8e7d5f9-0e3d-4418-8997-a534e8a70c2e"
      },
      "execution_count": 40,
      "outputs": [
        {
          "output_type": "execute_result",
          "data": {
            "text/plain": [
              "<IPython.core.display.Markdown object>"
            ],
            "text/markdown": "**Answer:** Flutter is a framework for building cross-platform mobile applications.\n\n**Additional Information:** Although the provided information doesn't explicitly mention the specific platforms that Flutter runs on, it is widely known that Flutter allows developers to build applications that can run on both iOS and Android platforms."
          },
          "metadata": {},
          "execution_count": 40
        }
      ]
    },
    {
      "cell_type": "code",
      "source": [
        "%%time\n",
        "response = qa.invoke(\"When was flutter created? \")"
      ],
      "metadata": {
        "colab": {
          "base_uri": "https://localhost:8080/"
        },
        "id": "eBrSYNYUXWZ6",
        "outputId": "99ac668c-1cf8-4382-d217-f1492a34ae91"
      },
      "execution_count": 41,
      "outputs": [
        {
          "output_type": "stream",
          "name": "stdout",
          "text": [
            "Running pairwise ranking..\n",
            "CPU times: user 2.78 s, sys: 0 ns, total: 2.78 s\n",
            "Wall time: 3.67 s\n"
          ]
        }
      ]
    },
    {
      "cell_type": "code",
      "source": [
        "print_response(response)"
      ],
      "metadata": {
        "colab": {
          "base_uri": "https://localhost:8080/"
        },
        "id": "n44jE8t9Xgur",
        "outputId": "0860008e-c750-4585-c970-77680bb69522"
      },
      "execution_count": 42,
      "outputs": [
        {
          "output_type": "stream",
          "name": "stdout",
          "text": [
            "**Answer:** The text does not provide information on when Flutter was created.\n",
            "\n",
            "**Additional Information:** However, I can provide some general information about Flutter. Flutter\n",
            "is a powerful framework for building cross-platform mobile applications, and it is an open-source UI\n",
            "framework developed by Google.\n"
          ]
        }
      ]
    },
    {
      "cell_type": "code",
      "source": [
        "\n",
        "%%time\n",
        "response = qa.invoke(\n",
        "    \"How much system requirements does flutter need to run on a machine? \"\n",
        ")"
      ],
      "metadata": {
        "colab": {
          "base_uri": "https://localhost:8080/"
        },
        "id": "LXBpm8AYXiOF",
        "outputId": "a9e04ff1-29a5-4063-c032-67e3339f09e4"
      },
      "execution_count": 43,
      "outputs": [
        {
          "output_type": "stream",
          "name": "stdout",
          "text": [
            "Running pairwise ranking..\n",
            "CPU times: user 2.55 s, sys: 2.52 ms, total: 2.55 s\n",
            "Wall time: 3.02 s\n"
          ]
        }
      ]
    },
    {
      "cell_type": "code",
      "source": [
        "print_response(response)"
      ],
      "metadata": {
        "colab": {
          "base_uri": "https://localhost:8080/"
        },
        "id": "zvp_JFXuXt4s",
        "outputId": "93dbf1ac-0741-4ff1-cb0c-7f4c26dd5ecd"
      },
      "execution_count": 44,
      "outputs": [
        {
          "output_type": "stream",
          "name": "stdout",
          "text": [
            "I don't know the answer to this question. The provided information does not mention the system\n",
            "requirements for running Flutter on a machine. It only provides a comprehensive guide to using\n",
            "Google Maps in Flutter, including obtaining an API key, displaying a map, adding markers, and\n",
            "handling user location.\n"
          ]
        }
      ]
    },
    {
      "cell_type": "code",
      "source": [],
      "metadata": {
        "id": "iqLnax3uXwXZ"
      },
      "execution_count": null,
      "outputs": []
    }
  ]
}