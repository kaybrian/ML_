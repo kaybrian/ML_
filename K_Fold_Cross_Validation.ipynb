{
  "nbformat": 4,
  "nbformat_minor": 0,
  "metadata": {
    "colab": {
      "provenance": [],
      "authorship_tag": "ABX9TyPOdy7acyDuMZR+REdQI2Mf",
      "include_colab_link": true
    },
    "kernelspec": {
      "name": "python3",
      "display_name": "Python 3"
    },
    "language_info": {
      "name": "python"
    }
  },
  "cells": [
    {
      "cell_type": "markdown",
      "metadata": {
        "id": "view-in-github",
        "colab_type": "text"
      },
      "source": [
        "<a href=\"https://colab.research.google.com/github/kaybrian/ML_/blob/main/K_Fold_Cross_Validation.ipynb\" target=\"_parent\"><img src=\"https://colab.research.google.com/assets/colab-badge.svg\" alt=\"Open In Colab\"/></a>"
      ]
    },
    {
      "cell_type": "code",
      "execution_count": 20,
      "metadata": {
        "id": "J0uMt-JXjrUU"
      },
      "outputs": [],
      "source": [
        "import pandas as pd\n",
        "from sklearn.svm import SVC\n",
        "from sklearn.model_selection import train_test_split\n",
        "from sklearn.metrics import accuracy_score\n",
        "from sklearn.ensemble import RandomForestClassifier\n",
        "from sklearn.linear_model import LogisticRegression\n",
        "from sklearn.datasets import load_digits\n",
        "digits = load_digits()\n",
        "\n",
        "# stop the warning\n",
        "import warnings\n",
        "warnings.filterwarnings('ignore')"
      ]
    },
    {
      "cell_type": "code",
      "source": [
        "dir(digits)"
      ],
      "metadata": {
        "colab": {
          "base_uri": "https://localhost:8080/"
        },
        "id": "RP1_4pAxlHQM",
        "outputId": "f05de7c3-8b07-4b95-d309-c815e8ed50f2"
      },
      "execution_count": 2,
      "outputs": [
        {
          "output_type": "execute_result",
          "data": {
            "text/plain": [
              "['DESCR', 'data', 'feature_names', 'frame', 'images', 'target', 'target_names']"
            ]
          },
          "metadata": {},
          "execution_count": 2
        }
      ]
    },
    {
      "cell_type": "code",
      "source": [
        "# split the dataset\n",
        "X_train, X_test, y_train, y_test = train_test_split(digits.data, digits.target, test_size=0.3, random_state=101)"
      ],
      "metadata": {
        "id": "s4oSGcEmlcdq"
      },
      "execution_count": 12,
      "outputs": []
    },
    {
      "cell_type": "code",
      "source": [
        "# lets start with the logistic classifier to see\n",
        "lr = LogisticRegression()\n",
        "lr.fit(X_train, y_train)\n",
        "\n",
        "# get the score of the classifier\n",
        "lr.score(X_test, y_test)"
      ],
      "metadata": {
        "colab": {
          "base_uri": "https://localhost:8080/"
        },
        "id": "wegVicadlmHt",
        "outputId": "cea06978-bd90-4d96-f076-4c8348dcecff"
      },
      "execution_count": 13,
      "outputs": [
        {
          "output_type": "stream",
          "name": "stderr",
          "text": [
            "/usr/local/lib/python3.10/dist-packages/sklearn/linear_model/_logistic.py:458: ConvergenceWarning: lbfgs failed to converge (status=1):\n",
            "STOP: TOTAL NO. of ITERATIONS REACHED LIMIT.\n",
            "\n",
            "Increase the number of iterations (max_iter) or scale the data as shown in:\n",
            "    https://scikit-learn.org/stable/modules/preprocessing.html\n",
            "Please also refer to the documentation for alternative solver options:\n",
            "    https://scikit-learn.org/stable/modules/linear_model.html#logistic-regression\n",
            "  n_iter_i = _check_optimize_result(\n"
          ]
        },
        {
          "output_type": "execute_result",
          "data": {
            "text/plain": [
              "0.9648148148148148"
            ]
          },
          "metadata": {},
          "execution_count": 13
        }
      ]
    },
    {
      "cell_type": "code",
      "source": [
        "#  using the svm (support vector machines )\n",
        "svm = SVC()\n",
        "svm.fit(X_train, y_train)\n",
        "svm.score(X_test, y_test)"
      ],
      "metadata": {
        "colab": {
          "base_uri": "https://localhost:8080/"
        },
        "id": "Sm1MeWhIlzj-",
        "outputId": "93a6e477-07d9-48ec-b8f4-0c8438a1feb9"
      },
      "execution_count": 14,
      "outputs": [
        {
          "output_type": "execute_result",
          "data": {
            "text/plain": [
              "0.9888888888888889"
            ]
          },
          "metadata": {},
          "execution_count": 14
        }
      ]
    },
    {
      "cell_type": "code",
      "source": [
        "# using the random forest\n",
        "rf = RandomForestClassifier()\n",
        "rf.fit(X_train, y_train)\n",
        "rf.score(X_test, y_test)"
      ],
      "metadata": {
        "colab": {
          "base_uri": "https://localhost:8080/"
        },
        "id": "2mk-nylLmALd",
        "outputId": "b2a3bdcf-a975-4a24-f048-78ee8d9797b5"
      },
      "execution_count": 15,
      "outputs": [
        {
          "output_type": "execute_result",
          "data": {
            "text/plain": [
              "0.9777777777777777"
            ]
          },
          "metadata": {},
          "execution_count": 15
        }
      ]
    },
    {
      "cell_type": "code",
      "source": [
        "# using the k fold\n",
        "from sklearn.model_selection import KFold\n",
        "kf = KFold(n_splits=3)\n",
        "\n",
        "kf"
      ],
      "metadata": {
        "colab": {
          "base_uri": "https://localhost:8080/"
        },
        "id": "xmDi_u_hmF41",
        "outputId": "2a4fb754-d2e3-4c54-872c-4c50577b5487"
      },
      "execution_count": 16,
      "outputs": [
        {
          "output_type": "execute_result",
          "data": {
            "text/plain": [
              "KFold(n_splits=3, random_state=None, shuffle=False)"
            ]
          },
          "metadata": {},
          "execution_count": 16
        }
      ]
    },
    {
      "cell_type": "code",
      "source": [
        "for train_index, test_index in kf.split([1,2,3,4,5,6,7,8,9]):\n",
        "    print(train_index, test_index)"
      ],
      "metadata": {
        "colab": {
          "base_uri": "https://localhost:8080/"
        },
        "id": "oo5UT5tKmq_R",
        "outputId": "b9c850ed-3145-40ab-d3cc-0f0edd6b0230"
      },
      "execution_count": 17,
      "outputs": [
        {
          "output_type": "stream",
          "name": "stdout",
          "text": [
            "[3 4 5 6 7 8] [0 1 2]\n",
            "[0 1 2 6 7 8] [3 4 5]\n",
            "[0 1 2 3 4 5] [6 7 8]\n"
          ]
        }
      ]
    },
    {
      "cell_type": "code",
      "source": [
        "def get_score(model, X_train, X_test, y_train, y_test):\n",
        "    model.fit(X_train, y_train)\n",
        "    return model.score(X_test, y_test)"
      ],
      "metadata": {
        "id": "ykvJp0HLm1h5"
      },
      "execution_count": 18,
      "outputs": []
    },
    {
      "cell_type": "code",
      "source": [
        "# get the scores of the other models\n",
        "print(\"Logistic Regression score: \", get_score(LogisticRegression(), X_train, X_test, y_train, y_test))\n",
        "print(\"SVM score: \", get_score(SVC(), X_train, X_test, y_train, y_test))\n",
        "print(\"Random Forest score: \", get_score(RandomForestClassifier(), X_train, X_test, y_train, y_test))\n"
      ],
      "metadata": {
        "colab": {
          "base_uri": "https://localhost:8080/"
        },
        "id": "RMC7LIkGqJJS",
        "outputId": "1cb08cf2-951b-45ed-cdfa-64f46bf35507"
      },
      "execution_count": 21,
      "outputs": [
        {
          "output_type": "stream",
          "name": "stdout",
          "text": [
            "Logistic Regression score:  0.9648148148148148\n",
            "SVM score:  0.9888888888888889\n",
            "Random Forest score:  0.9796296296296296\n"
          ]
        }
      ]
    },
    {
      "cell_type": "code",
      "source": [
        "from sklearn.model_selection import StratifiedKFold\n",
        "import numpy as np\n",
        "folds = StratifiedKFold(n_splits=5)\n",
        "\n",
        "scores_logistic = []\n",
        "scores_svm = []\n",
        "scores_rf = []\n",
        "\n",
        "for train_index, test_index in folds.split(digits.data, digits.target):\n",
        "    X_train, X_test, y_train, y_test = digits.data[train_index], digits.data[test_index], digits.target[train_index], digits.target[test_index]\n",
        "    scores_logistic.append(get_score(LogisticRegression(), X_train, X_test, y_train, y_test))\n",
        "    scores_svm.append(get_score(SVC(), X_train, X_test, y_train, y_test))\n",
        "    scores_rf.append(get_score(RandomForestClassifier(n_estimators=50), X_train, X_test, y_train, y_test))\n",
        "\n",
        "# print the scores\n",
        "print(\"Logistic Regression score: \", scores_logistic)\n",
        "print(\"SVM score: \", scores_svm)\n",
        "print(\"Random Forest score: \", scores_rf)\n"
      ],
      "metadata": {
        "colab": {
          "base_uri": "https://localhost:8080/"
        },
        "id": "poo8CH8LqYNc",
        "outputId": "40685653-f18d-4ff7-dbe6-834e70d381dc"
      },
      "execution_count": 26,
      "outputs": [
        {
          "output_type": "stream",
          "name": "stdout",
          "text": [
            "Logistic Regression score:  [0.9222222222222223, 0.8694444444444445, 0.9415041782729805, 0.9387186629526463, 0.8969359331476323]\n",
            "SVM score:  [0.9611111111111111, 0.9444444444444444, 0.9832869080779945, 0.9888579387186629, 0.9387186629526463]\n",
            "Random Forest score:  [0.9305555555555556, 0.9222222222222223, 0.9554317548746518, 0.9610027855153204, 0.9220055710306406]\n"
          ]
        }
      ]
    },
    {
      "cell_type": "code",
      "source": [
        "# using the cross val score\n",
        "from sklearn.model_selection import cross_val_score\n",
        "\n",
        "print(cross_val_score(LogisticRegression(), digits.data, digits.target, cv=3))\n",
        "print(cross_val_score(SVC(), digits.data, digits.target, cv=3))\n",
        "print(cross_val_score(RandomForestClassifier(), digits.data, digits.target, cv=3))"
      ],
      "metadata": {
        "colab": {
          "base_uri": "https://localhost:8080/"
        },
        "id": "SPD0G_k-q9zJ",
        "outputId": "be0da532-d8a0-462b-b0f4-26dcdb279066"
      },
      "execution_count": 28,
      "outputs": [
        {
          "output_type": "stream",
          "name": "stdout",
          "text": [
            "[0.92153589 0.94156928 0.91652755]\n",
            "[0.96494157 0.97996661 0.96494157]\n",
            "[0.93989983 0.95492487 0.91819699]\n"
          ]
        }
      ]
    },
    {
      "cell_type": "code",
      "source": [
        "# you can also compare the same classifer with different parameter\n",
        "print(cross_val_score(RandomForestClassifier(n_estimators=10), digits.data, digits.target, cv=3))\n",
        "print(cross_val_score(RandomForestClassifier(n_estimators=20), digits.data, digits.target, cv=3))\n",
        "print(cross_val_score(RandomForestClassifier(n_estimators=30), digits.data, digits.target, cv=3))\n",
        "print(cross_val_score(RandomForestClassifier(n_estimators=40), digits.data, digits.target, cv=3))\n",
        "print(cross_val_score(RandomForestClassifier(n_estimators=50), digits.data, digits.target, cv=3))"
      ],
      "metadata": {
        "colab": {
          "base_uri": "https://localhost:8080/"
        },
        "id": "LuR_5z7mr5ia",
        "outputId": "18f57d2f-acb3-4df1-f187-813697d065fd"
      },
      "execution_count": 30,
      "outputs": [
        {
          "output_type": "stream",
          "name": "stdout",
          "text": [
            "[0.89816361 0.92320534 0.89315526]\n",
            "[0.93489149 0.93989983 0.9148581 ]\n",
            "[0.91819699 0.93155259 0.92487479]\n",
            "[0.92988314 0.94824708 0.91318865]\n",
            "[0.94323873 0.94824708 0.93155259]\n"
          ]
        }
      ]
    },
    {
      "cell_type": "code",
      "source": [],
      "metadata": {
        "id": "0pKHzq1ssYZF"
      },
      "execution_count": null,
      "outputs": []
    }
  ]
}